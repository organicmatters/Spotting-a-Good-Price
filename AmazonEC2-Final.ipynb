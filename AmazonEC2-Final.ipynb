{
 "cells": [
  {
   "cell_type": "code",
   "execution_count": 22,
   "metadata": {},
   "outputs": [],
   "source": [
    "import sys\n",
    "import itertools\n",
    "import datetime, time\n",
    "from datetime import timedelta\n",
    "import pandas as pd\n",
    "import numpy as np\n",
    "import matplotlib.pyplot as plt\n",
    "from fbprophet import Prophet\n",
    "import statsmodels.api as sm\n",
    "from statsmodels.tsa.arima_model import ARIMA\n",
    "from pandas.plotting import autocorrelation_plot\n",
    "from sklearn.metrics import mean_squared_error\n",
    "from matplotlib import pyplot\n",
    "import boto3\n",
    "%matplotlib inline"
   ]
  },
  {
   "cell_type": "code",
   "execution_count": 91,
   "metadata": {},
   "outputs": [
    {
     "name": "stdout",
     "output_type": "stream",
     "text": [
      "The autoreload extension is already loaded. To reload it, use:\n",
      "  %reload_ext autoreload\n"
     ]
    }
   ],
   "source": [
    "%load_ext autoreload\n",
    "%autoreload 1\n",
    "%aimport AWSArima\n",
    "%aimport PredictAWSPrice\n",
    "from AWSArima import ArimaPipeline\n",
    "from PredictAWSPrice import PredictFuturePrice"
   ]
  },
  {
   "cell_type": "markdown",
   "metadata": {},
   "source": [
    "## Extracting Instance Costs for 3 Months from AWS"
   ]
  },
  {
   "cell_type": "markdown",
   "metadata": {},
   "source": [
    "The first thing that I did was get a list of all of the EC2 instances and combined those in a list.  "
   ]
  },
  {
   "cell_type": "code",
   "execution_count": 3,
   "metadata": {},
   "outputs": [],
   "source": [
    "General_Instances = 'a1.medium , a1.large , a1.xlarge , a1.2xlarge , a1.4xlarge , m4.large , m4.xlarge , m4.2xlarge , m4.4xlarge , m4.10xlarge , m4.16xlarge , m5.large , m5.xlarge , m5.2xlarge , m5.4xlarge , m5.12xlarge , m5.24xlarge , m5.metal , m5a.large , m5a.xlarge , m5a.2xlarge , m5a.4xlarge , m5a.12xlarge , m5a.24xlarge , m5d.large , m5d.xlarge , m5d.2xlarge , m5d.4xlarge , m5d.12xlarge , m5d.24xlarge , m5d.metal , t2.nano , t2.micro , t2.small , t2.medium , t2.large , t2.xlarge , t2.2xlarge , t3.nano , t3.micro , t3.small , t3.medium , t3.large , t3.xlarge , t3.2xlarge'\n",
    "Compute_Optimized ='c4.large , c4.xlarge , c4.2xlarge , c4.4xlarge , c4.8xlarge , c5.large , c5.xlarge , c5.2xlarge , c5.4xlarge , c5.9xlarge , c5.18xlarge , c5d.xlarge , c5d.2xlarge , c5d.4xlarge , c5d.9xlarge , c5d.18xlarge , c5n.large , c5n.xlarge , c5n.2xlarge , c5n.4xlarge , c5n.9xlarge , c5n.18xlarge'\n",
    "Memory_Optimized = 'r4.large , r4.xlarge , r4.2xlarge , r4.4xlarge , r4.8xlarge , r4.16xlarge , r5.large , r5.xlarge , r5.2xlarge , r5.4xlarge , r5.12xlarge , r5.24xlarge , r5.metal , r5a.large , r5a.xlarge , r5a.2xlarge , r5a.4xlarge , r5a.12xlarge , r5a.24xlarge , r5d.large , r5d.xlarge , r5d.2xlarge , r5d.4xlarge , r5d.12xlarge , r5d.24xlarge , r5d.metal , u-6tb1.metal , u-9tb1.metal , u-12tb1.metal , x1.16xlarge , x1.32xlarge , x1e.xlarge , x1e.2xlarge , x1e.4xlarge , x1e.8xlarge , x1e.16xlarge , x1e.32xlarge , z1d.large , z1d.xlarge , z1d.2xlarge , z1d.3xlarge , z1d.6xlarge , z1d.12xlarge , z1d.metal'\n",
    "Storage_Optimized = 'd2.xlarge , d2.2xlarge , d2.4xlarge , d2.8xlarge , h1.2xlarge , h1.4xlarge , h1.8xlarge , h1.16xlarge , i3.large , i3.xlarge , i3.2xlarge , i3.4xlarge , i3.8xlarge , i3.16xlarge , i3.metal'\n",
    "Accelerated_Computing = 'f1.2xlarge , f1.4xlarge , f1.16xlarge , g3s.xlarge , g3.4xlarge , g3.8xlarge , g3.16xlarge , p2.xlarge , p2.8xlarge , p2.16xlarge , p3.2xlarge , p3.8xlarge , p3.16xlarge , p3dn.24xlarge'\n",
    "                       "
   ]
  },
  {
   "cell_type": "code",
   "execution_count": 4,
   "metadata": {},
   "outputs": [],
   "source": [
    "all_instances = General_Instances + Compute_Optimized + Memory_Optimized + Storage_Optimized + Accelerated_Computing"
   ]
  },
  {
   "cell_type": "markdown",
   "metadata": {},
   "source": [
    "The instances are currently a string so the function below was written to make those instances a list."
   ]
  },
  {
   "cell_type": "code",
   "execution_count": 5,
   "metadata": {},
   "outputs": [],
   "source": [
    "def instance_to_list(instance_list):\n",
    "    all_instances_list = []\n",
    "    \n",
    "    for word in instance_list.split():\n",
    "        if word != ',':\n",
    "            all_instances_list.append(word)   \n",
    "    \n",
    "    return all_instances_list"
   ]
  },
  {
   "cell_type": "code",
   "execution_count": 6,
   "metadata": {},
   "outputs": [],
   "source": [
    "instance_types = instance_to_list(all_instances)"
   ]
  },
  {
   "cell_type": "markdown",
   "metadata": {},
   "source": [
    "The AWS API allows for the retrieval of historical time series data for up to 3 months previous. "
   ]
  },
  {
   "cell_type": "code",
   "execution_count": 7,
   "metadata": {},
   "outputs": [
    {
     "name": "stdout",
     "output_type": "stream",
     "text": [
      "Will process from 2019-01-03T19:59:01 to 2019-04-03T19:59:01\n"
     ]
    }
   ],
   "source": [
    "number_of_days = 90\n",
    "end = datetime.datetime.utcnow().strftime(\"%Y-%m-%dT%H:%M:%S\")\n",
    "start = (datetime.datetime.utcnow() - timedelta(days=number_of_days)).strftime(\"%Y-%m-%dT%H:%M:%S\")\n",
    "\n",
    "print(\"Will process from \" + start + \" to \" + end)"
   ]
  },
  {
   "cell_type": "markdown",
   "metadata": {},
   "source": [
    "I created the predict future price class to serve as the end to end class to retrieve data, model the data, and make predictions on that data. The first thing that I did want is to retrieve the historical pricing data."
   ]
  },
  {
   "cell_type": "code",
   "execution_count": 8,
   "metadata": {},
   "outputs": [],
   "source": [
    "prices = PredictFuturePrice()"
   ]
  },
  {
   "cell_type": "markdown",
   "metadata": {},
   "source": [
    "The AWS API needs the region specified so I will run the historical pricing method for all of the regions and pickle each file. I chose to do these one at a time because I am pulling pricing data for an entire region."
   ]
  },
  {
   "cell_type": "code",
   "execution_count": 9,
   "metadata": {},
   "outputs": [],
   "source": [
    "# region = 'us-east-1'\n",
    "# region = 'us-east-2'\n",
    "# region = 'us-west-1'\n",
    "region = 'us-west-2'"
   ]
  },
  {
   "cell_type": "code",
   "execution_count": 10,
   "metadata": {},
   "outputs": [
    {
     "name": "stderr",
     "output_type": "stream",
     "text": [
      "INFO:botocore.credentials:Found credentials in shared credentials file: ~/.aws/credentials\n"
     ]
    }
   ],
   "source": [
    "df = prices.get_prices(start, end, instance_types, region)"
   ]
  },
  {
   "cell_type": "code",
   "execution_count": 11,
   "metadata": {},
   "outputs": [
    {
     "data": {
      "text/html": [
       "<div>\n",
       "<style scoped>\n",
       "    .dataframe tbody tr th:only-of-type {\n",
       "        vertical-align: middle;\n",
       "    }\n",
       "\n",
       "    .dataframe tbody tr th {\n",
       "        vertical-align: top;\n",
       "    }\n",
       "\n",
       "    .dataframe thead th {\n",
       "        text-align: right;\n",
       "    }\n",
       "</style>\n",
       "<table border=\"1\" class=\"dataframe\">\n",
       "  <thead>\n",
       "    <tr style=\"text-align: right;\">\n",
       "      <th></th>\n",
       "      <th>AvailabilityZone</th>\n",
       "      <th>InstanceType</th>\n",
       "      <th>ProductDescription</th>\n",
       "      <th>SpotPrice</th>\n",
       "      <th>Timestamp</th>\n",
       "    </tr>\n",
       "  </thead>\n",
       "  <tbody>\n",
       "    <tr>\n",
       "      <th>0</th>\n",
       "      <td>us-west-2c</td>\n",
       "      <td>g3s.xlarge</td>\n",
       "      <td>SUSE Linux</td>\n",
       "      <td>0.359100</td>\n",
       "      <td>2019-04-03 19:56:40+00:00</td>\n",
       "    </tr>\n",
       "    <tr>\n",
       "      <th>1</th>\n",
       "      <td>us-west-2c</td>\n",
       "      <td>g3s.xlarge</td>\n",
       "      <td>Linux/UNIX</td>\n",
       "      <td>0.259100</td>\n",
       "      <td>2019-04-03 19:56:40+00:00</td>\n",
       "    </tr>\n",
       "    <tr>\n",
       "      <th>2</th>\n",
       "      <td>us-west-2a</td>\n",
       "      <td>c5.2xlarge</td>\n",
       "      <td>SUSE Linux</td>\n",
       "      <td>0.232700</td>\n",
       "      <td>2019-04-03 19:56:25+00:00</td>\n",
       "    </tr>\n",
       "    <tr>\n",
       "      <th>3</th>\n",
       "      <td>us-west-2a</td>\n",
       "      <td>c5.2xlarge</td>\n",
       "      <td>Linux/UNIX</td>\n",
       "      <td>0.132700</td>\n",
       "      <td>2019-04-03 19:56:25+00:00</td>\n",
       "    </tr>\n",
       "    <tr>\n",
       "      <th>4</th>\n",
       "      <td>us-west-2c</td>\n",
       "      <td>t3.medium</td>\n",
       "      <td>Windows</td>\n",
       "      <td>0.028900</td>\n",
       "      <td>2019-04-03 19:56:23+00:00</td>\n",
       "    </tr>\n",
       "  </tbody>\n",
       "</table>\n",
       "</div>"
      ],
      "text/plain": [
       "  AvailabilityZone InstanceType ProductDescription SpotPrice  \\\n",
       "0       us-west-2c   g3s.xlarge         SUSE Linux  0.359100   \n",
       "1       us-west-2c   g3s.xlarge         Linux/UNIX  0.259100   \n",
       "2       us-west-2a   c5.2xlarge         SUSE Linux  0.232700   \n",
       "3       us-west-2a   c5.2xlarge         Linux/UNIX  0.132700   \n",
       "4       us-west-2c    t3.medium            Windows  0.028900   \n",
       "\n",
       "                  Timestamp  \n",
       "0 2019-04-03 19:56:40+00:00  \n",
       "1 2019-04-03 19:56:40+00:00  \n",
       "2 2019-04-03 19:56:25+00:00  \n",
       "3 2019-04-03 19:56:25+00:00  \n",
       "4 2019-04-03 19:56:23+00:00  "
      ]
     },
     "execution_count": 11,
     "metadata": {},
     "output_type": "execute_result"
    }
   ],
   "source": [
    "df.head()"
   ]
  },
  {
   "cell_type": "markdown",
   "metadata": {},
   "source": [
    "The number of prices pulled for each region is as follows:"
   ]
  },
  {
   "cell_type": "code",
   "execution_count": 138,
   "metadata": {},
   "outputs": [
    {
     "data": {
      "text/plain": [
       "306897"
      ]
     },
     "execution_count": 138,
     "metadata": {},
     "output_type": "execute_result"
    }
   ],
   "source": [
    "# us-east-1\n",
    "len(df) "
   ]
  },
  {
   "cell_type": "code",
   "execution_count": 144,
   "metadata": {},
   "outputs": [
    {
     "data": {
      "text/plain": [
       "98472"
      ]
     },
     "execution_count": 144,
     "metadata": {},
     "output_type": "execute_result"
    }
   ],
   "source": [
    "#us-east-2\n",
    "len(df)"
   ]
  },
  {
   "cell_type": "code",
   "execution_count": 149,
   "metadata": {},
   "outputs": [
    {
     "data": {
      "text/plain": [
       "84080"
      ]
     },
     "execution_count": 149,
     "metadata": {},
     "output_type": "execute_result"
    }
   ],
   "source": [
    "#us-west-1\n",
    "len(df)"
   ]
  },
  {
   "cell_type": "code",
   "execution_count": 154,
   "metadata": {},
   "outputs": [
    {
     "data": {
      "text/plain": [
       "178957"
      ]
     },
     "execution_count": 154,
     "metadata": {},
     "output_type": "execute_result"
    }
   ],
   "source": [
    "#us-west-2\n",
    "len(df)"
   ]
  },
  {
   "cell_type": "markdown",
   "metadata": {},
   "source": [
    "Each region was saved as a pickle for later access."
   ]
  },
  {
   "cell_type": "code",
   "execution_count": 155,
   "metadata": {},
   "outputs": [],
   "source": [
    "df.to_pickle('us-west-2_12-9_18_to_3_9_18')"
   ]
  },
  {
   "cell_type": "markdown",
   "metadata": {},
   "source": [
    "I then combined the data frames from each region into one data frame."
   ]
  },
  {
   "cell_type": "code",
   "execution_count": 219,
   "metadata": {},
   "outputs": [],
   "source": [
    "data = df.append(df1)\n",
    "data = data.append(df2)\n",
    "data = data.append(df3)\n",
    "data = data.reset_index()"
   ]
  },
  {
   "cell_type": "code",
   "execution_count": 220,
   "metadata": {},
   "outputs": [],
   "source": [
    "data.to_pickle('all_regions.pkl')"
   ]
  },
  {
   "cell_type": "markdown",
   "metadata": {},
   "source": [
    "## Check to See if Price Changed"
   ]
  },
  {
   "cell_type": "markdown",
   "metadata": {},
   "source": [
    "The price for an AWS instance only changes if there is demand for that instance so the price for many instances will not change over a 3 month period. I wanted to see how many regions had a price change over the last 3 months."
   ]
  },
  {
   "cell_type": "markdown",
   "metadata": {},
   "source": [
    "I used a mask for all unique permutations of the instance location, type, and operating description.  The first thing I did was get all unique combinations of Availability Zone, Instance Type, and Product Description."
   ]
  },
  {
   "cell_type": "code",
   "execution_count": 12,
   "metadata": {},
   "outputs": [],
   "source": [
    "availability_zone = list(df.AvailabilityZone.unique())\n",
    "instance_type = list(df.InstanceType.unique())\n",
    "product_description = list(df.ProductDescription.unique())"
   ]
  },
  {
   "cell_type": "code",
   "execution_count": 13,
   "metadata": {},
   "outputs": [],
   "source": [
    "total_permutations = []\n",
    "total_permutations.append(availability_zone)\n",
    "total_permutations.append(instance_type)\n",
    "total_permutations.append(product_description)"
   ]
  },
  {
   "cell_type": "code",
   "execution_count": 14,
   "metadata": {},
   "outputs": [],
   "source": [
    "all_possibilities = list(itertools.product(*total_permutations))"
   ]
  },
  {
   "cell_type": "code",
   "execution_count": 237,
   "metadata": {},
   "outputs": [
    {
     "name": "stdout",
     "output_type": "stream",
     "text": [
      "2294 0.5311414679323918\n"
     ]
    }
   ],
   "source": [
    "# Look for change in price\n",
    "price_changes = 0\n",
    "previous_price = None\n",
    "not_possibility = 0\n",
    "not_combination = []\n",
    "no_price_change = []\n",
    "  \n",
    "for possibility in all_possibilities:\n",
    "    \n",
    "    changes_in_price = 0\n",
    "    mask = (df['AvailabilityZone'] == possibility[0]) & (df['InstanceType'] == possibility[1]) & (df['ProductDescription'] == possibility[2])\n",
    "    price_series = df[mask]\n",
    "    \n",
    "    if len(price_series) == 0:\n",
    "        not_possibility += 1\n",
    "        not_combination.append(possibility)\n",
    "        continue\n",
    "    for ix, spot_price in enumerate(price_series['SpotPrice']):\n",
    "        if previous_price is None:\n",
    "            previous_price = spot_price\n",
    "        if previous_price != spot_price:\n",
    "            #price_changes +=1\n",
    "            changes_in_price += 1\n",
    "        #if the prices do not change at least 3 times then the series should be labelled as no change\n",
    "        if changes_in_price > 2:\n",
    "            price_changes +=1\n",
    "            break\n",
    "        previous_price = spot_price\n",
    "        if ix == len(price_series['SpotPrice'])-1:\n",
    "            no_price_change.append(possibility)\n",
    "            \n",
    "all_instance_type_permutations = [elem for elem in all_possibilities if elem not in not_combination]\n",
    "instances_with_price_changes = [elem for elem in all_instance_type_permutations if elem not in no_price_change]\n",
    "print(price_changes, price_changes/(len(all_possibilities)-not_possibility))"
   ]
  },
  {
   "cell_type": "markdown",
   "metadata": {},
   "source": [
    "53% of the instances had prices changes over the 3 month historical pricing period. I went ahead and pickled all of the instance type permutations, all instances with price changes, and all instances without price changes. An ARIMA model throws an error if the model does not have a price change."
   ]
  },
  {
   "cell_type": "code",
   "execution_count": 243,
   "metadata": {},
   "outputs": [],
   "source": [
    "pd.Series(all_instance_type_permutations).to_pickle('all_instance_type_permutations.pkl')"
   ]
  },
  {
   "cell_type": "code",
   "execution_count": 244,
   "metadata": {},
   "outputs": [],
   "source": [
    "pd.Series(instances_with_price_changes).to_pickle('instances_with_price_changes.pkl')"
   ]
  },
  {
   "cell_type": "code",
   "execution_count": 245,
   "metadata": {},
   "outputs": [],
   "source": [
    "pd.Series(no_price_change).to_pickle('instances_without_price_changes.pkl')"
   ]
  },
  {
   "cell_type": "markdown",
   "metadata": {},
   "source": [
    "I then took a look at a few instances with price changes to see what it looked like.  Below is one example.  The x axis is the 90 day period."
   ]
  },
  {
   "cell_type": "code",
   "execution_count": 250,
   "metadata": {},
   "outputs": [
    {
     "data": {
      "image/png": "[encoded data removed]",
      "text/plain": [
       "<Figure size 432x288 with 1 Axes>"
      ]
     },
     "metadata": {
      "needs_background": "light"
     },
     "output_type": "display_data"
    }
   ],
   "source": [
    "instance_ts = instances_with_price_changes[5]\n",
    "mask = (df['AvailabilityZone'] == instance_ts[0]) & (df['InstanceType'] == instance_ts[1]) & (df['ProductDescription'] == instance_ts[2])\n",
    "price_series = df[mask]\n",
    "price_series['SpotPrice'].plot();"
   ]
  },
  {
   "cell_type": "markdown",
   "metadata": {},
   "source": [
    "## Prophet"
   ]
  },
  {
   "cell_type": "code",
   "execution_count": 93,
   "metadata": {},
   "outputs": [
    {
     "name": "stderr",
     "output_type": "stream",
     "text": [
      "/anaconda3/lib/python3.6/site-packages/ipykernel_launcher.py:1: UserWarning: Boolean Series key will be reindexed to match DataFrame index.\n",
      "  \"\"\"Entry point for launching an IPython kernel.\n"
     ]
    }
   ],
   "source": [
    "df2 = df1[availability_zone_mask].drop(['AvailabilityZone', 'InstanceType', 'ProductDescription'], axis = 1)"
   ]
  },
  {
   "cell_type": "code",
   "execution_count": 94,
   "metadata": {},
   "outputs": [
    {
     "data": {
      "text/html": [
       "<div>\n",
       "<style scoped>\n",
       "    .dataframe tbody tr th:only-of-type {\n",
       "        vertical-align: middle;\n",
       "    }\n",
       "\n",
       "    .dataframe tbody tr th {\n",
       "        vertical-align: top;\n",
       "    }\n",
       "\n",
       "    .dataframe thead th {\n",
       "        text-align: right;\n",
       "    }\n",
       "</style>\n",
       "<table border=\"1\" class=\"dataframe\">\n",
       "  <thead>\n",
       "    <tr style=\"text-align: right;\">\n",
       "      <th></th>\n",
       "      <th>Timestamp</th>\n",
       "      <th>SpotPrice</th>\n",
       "    </tr>\n",
       "  </thead>\n",
       "  <tbody>\n",
       "    <tr>\n",
       "      <th>603</th>\n",
       "      <td>2019-03-09 18:00:15+00:00</td>\n",
       "      <td>0.0168</td>\n",
       "    </tr>\n",
       "    <tr>\n",
       "      <th>609</th>\n",
       "      <td>2019-03-08 17:59:37+00:00</td>\n",
       "      <td>0.0168</td>\n",
       "    </tr>\n",
       "    <tr>\n",
       "      <th>615</th>\n",
       "      <td>2019-03-07 17:58:40+00:00</td>\n",
       "      <td>0.0168</td>\n",
       "    </tr>\n",
       "    <tr>\n",
       "      <th>621</th>\n",
       "      <td>2019-03-06 17:58:39+00:00</td>\n",
       "      <td>0.0168</td>\n",
       "    </tr>\n",
       "    <tr>\n",
       "      <th>627</th>\n",
       "      <td>2019-03-05 17:57:56+00:00</td>\n",
       "      <td>0.0168</td>\n",
       "    </tr>\n",
       "  </tbody>\n",
       "</table>\n",
       "</div>"
      ],
      "text/plain": [
       "                    Timestamp  SpotPrice\n",
       "603 2019-03-09 18:00:15+00:00     0.0168\n",
       "609 2019-03-08 17:59:37+00:00     0.0168\n",
       "615 2019-03-07 17:58:40+00:00     0.0168\n",
       "621 2019-03-06 17:58:39+00:00     0.0168\n",
       "627 2019-03-05 17:57:56+00:00     0.0168"
      ]
     },
     "execution_count": 94,
     "metadata": {},
     "output_type": "execute_result"
    }
   ],
   "source": [
    "df2.head()"
   ]
  },
  {
   "cell_type": "code",
   "execution_count": 95,
   "metadata": {},
   "outputs": [],
   "source": [
    "df2 = df2.rename(index=str, columns={\"Timestamp\": \"ds\", \"SpotPrice\": \"y\"})"
   ]
  },
  {
   "cell_type": "code",
   "execution_count": 96,
   "metadata": {},
   "outputs": [],
   "source": [
    "df2['ds'] = df2['ds'].apply(lambda x:datetime.datetime.replace(x,tzinfo=None))"
   ]
  },
  {
   "cell_type": "code",
   "execution_count": 97,
   "metadata": {},
   "outputs": [
    {
     "name": "stderr",
     "output_type": "stream",
     "text": [
      "/anaconda3/lib/python3.6/site-packages/fbprophet/forecaster.py:880: FutureWarning: Series.nonzero() is deprecated and will be removed in a future version.Use Series.to_numpy().nonzero() instead\n",
      "  min_dt = dt.iloc[dt.nonzero()[0]].min()\n",
      "INFO:fbprophet:Disabling yearly seasonality. Run prophet with yearly_seasonality=True to override this.\n"
     ]
    },
    {
     "data": {
      "text/plain": [
       "<fbprophet.forecaster.Prophet at 0x1c282df320>"
      ]
     },
     "execution_count": 97,
     "metadata": {},
     "output_type": "execute_result"
    }
   ],
   "source": [
    "model = Prophet()\n",
    "model.fit(df2)"
   ]
  },
  {
   "cell_type": "code",
   "execution_count": 98,
   "metadata": {},
   "outputs": [
    {
     "data": {
      "text/plain": [
       "(178, 1)"
      ]
     },
     "execution_count": 98,
     "metadata": {},
     "output_type": "execute_result"
    }
   ],
   "source": [
    "# This adds 30 more rows to the dataframe which is already 100 rows\n",
    "future = model.make_future_dataframe(periods=30)\n",
    "future.shape"
   ]
  },
  {
   "cell_type": "code",
   "execution_count": 99,
   "metadata": {},
   "outputs": [
    {
     "data": {
      "text/html": [
       "<div>\n",
       "<style scoped>\n",
       "    .dataframe tbody tr th:only-of-type {\n",
       "        vertical-align: middle;\n",
       "    }\n",
       "\n",
       "    .dataframe tbody tr th {\n",
       "        vertical-align: top;\n",
       "    }\n",
       "\n",
       "    .dataframe thead th {\n",
       "        text-align: right;\n",
       "    }\n",
       "</style>\n",
       "<table border=\"1\" class=\"dataframe\">\n",
       "  <thead>\n",
       "    <tr style=\"text-align: right;\">\n",
       "      <th></th>\n",
       "      <th>ds</th>\n",
       "      <th>yhat</th>\n",
       "      <th>yhat_lower</th>\n",
       "      <th>yhat_upper</th>\n",
       "    </tr>\n",
       "  </thead>\n",
       "  <tbody>\n",
       "    <tr>\n",
       "      <th>173</th>\n",
       "      <td>2019-04-04 18:00:15</td>\n",
       "      <td>0.015181</td>\n",
       "      <td>0.013082</td>\n",
       "      <td>0.017234</td>\n",
       "    </tr>\n",
       "    <tr>\n",
       "      <th>174</th>\n",
       "      <td>2019-04-05 18:00:15</td>\n",
       "      <td>0.014612</td>\n",
       "      <td>0.012564</td>\n",
       "      <td>0.016609</td>\n",
       "    </tr>\n",
       "    <tr>\n",
       "      <th>175</th>\n",
       "      <td>2019-04-06 18:00:15</td>\n",
       "      <td>0.015357</td>\n",
       "      <td>0.013336</td>\n",
       "      <td>0.017536</td>\n",
       "    </tr>\n",
       "    <tr>\n",
       "      <th>176</th>\n",
       "      <td>2019-04-07 18:00:15</td>\n",
       "      <td>0.014475</td>\n",
       "      <td>0.012228</td>\n",
       "      <td>0.016556</td>\n",
       "    </tr>\n",
       "    <tr>\n",
       "      <th>177</th>\n",
       "      <td>2019-04-08 18:00:15</td>\n",
       "      <td>0.013837</td>\n",
       "      <td>0.011714</td>\n",
       "      <td>0.015991</td>\n",
       "    </tr>\n",
       "  </tbody>\n",
       "</table>\n",
       "</div>"
      ],
      "text/plain": [
       "                     ds      yhat  yhat_lower  yhat_upper\n",
       "173 2019-04-04 18:00:15  0.015181    0.013082    0.017234\n",
       "174 2019-04-05 18:00:15  0.014612    0.012564    0.016609\n",
       "175 2019-04-06 18:00:15  0.015357    0.013336    0.017536\n",
       "176 2019-04-07 18:00:15  0.014475    0.012228    0.016556\n",
       "177 2019-04-08 18:00:15  0.013837    0.011714    0.015991"
      ]
     },
     "execution_count": 99,
     "metadata": {},
     "output_type": "execute_result"
    }
   ],
   "source": [
    "forecast = model.predict(future)\n",
    "forecast[['ds', 'yhat', 'yhat_lower', 'yhat_upper']].tail()"
   ]
  },
  {
   "cell_type": "code",
   "execution_count": 100,
   "metadata": {},
   "outputs": [
    {
     "name": "stderr",
     "output_type": "stream",
     "text": [
      "/anaconda3/lib/python3.6/site-packages/pandas/plotting/_converter.py:129: FutureWarning: Using an implicitly registered datetime converter for a matplotlib plotting method. The converter was registered by pandas on import. Future versions of pandas will require you to explicitly register matplotlib converters.\n",
      "\n",
      "To register the converters:\n",
      "\t>>> from pandas.plotting import register_matplotlib_converters\n",
      "\t>>> register_matplotlib_converters()\n",
      "  warnings.warn(msg, FutureWarning)\n"
     ]
    },
    {
     "data": {
      "image/png": "[encoded data removed]",
      "text/plain": [
       "<Figure size 720x432 with 1 Axes>"
      ]
     },
     "metadata": {},
     "output_type": "display_data"
    }
   ],
   "source": [
    "fig1 = model.plot(forecast)"
   ]
  },
  {
   "cell_type": "code",
   "execution_count": 101,
   "metadata": {},
   "outputs": [
    {
     "data": {
      "image/png": "[encoded data removed]",
      "text/plain": [
       "<Figure size 648x648 with 3 Axes>"
      ]
     },
     "metadata": {},
     "output_type": "display_data"
    }
   ],
   "source": [
    "fig2 = model.plot_components(forecast)"
   ]
  },
  {
   "cell_type": "markdown",
   "metadata": {},
   "source": [
    "## ARIMA "
   ]
  },
  {
   "cell_type": "code",
   "execution_count": 92,
   "metadata": {},
   "outputs": [],
   "source": [
    "arima = ArimaPipeline()"
   ]
  },
  {
   "cell_type": "code",
   "execution_count": 93,
   "metadata": {},
   "outputs": [],
   "source": [
    "df = pd.read_pickle('all_regions.pkl')\n",
    "instances_with_price_changes = pd.read_pickle('instances_with_price_changes.pkl')"
   ]
  },
  {
   "cell_type": "code",
   "execution_count": 94,
   "metadata": {},
   "outputs": [
    {
     "name": "stdout",
     "output_type": "stream",
     "text": [
      "('us-east-1f', 'p3.8xlarge', 'Linux/UNIX')\n"
     ]
    },
    {
     "data": {
      "text/plain": [
       "0.03416198080582236"
      ]
     },
     "execution_count": 94,
     "metadata": {},
     "output_type": "execute_result"
    }
   ],
   "source": [
    "arima.run_model(df, instances_with_price_changes, 788)"
   ]
  },
  {
   "cell_type": "code",
   "execution_count": 95,
   "metadata": {},
   "outputs": [
    {
     "data": {
      "image/png": "[encoded data removed]",
      "text/plain": [
       "<Figure size 864x576 with 1 Axes>"
      ]
     },
     "metadata": {
      "needs_background": "light"
     },
     "output_type": "display_data"
    }
   ],
   "source": [
    "arima.plot_predictions()"
   ]
  },
  {
   "cell_type": "code",
   "execution_count": 96,
   "metadata": {},
   "outputs": [
    {
     "name": "stdout",
     "output_type": "stream",
     "text": [
      "('us-east-1b', 'p3.16xlarge', 'SUSE Linux')\n"
     ]
    },
    {
     "data": {
      "text/plain": [
       "0.04627608693484533"
      ]
     },
     "execution_count": 96,
     "metadata": {},
     "output_type": "execute_result"
    }
   ],
   "source": [
    "arima.run_model(df, instances_with_price_changes, 217)"
   ]
  },
  {
   "cell_type": "code",
   "execution_count": 97,
   "metadata": {},
   "outputs": [
    {
     "data": {
      "image/png": "[encoded data removed]",
      "text/plain": [
       "<Figure size 864x576 with 1 Axes>"
      ]
     },
     "metadata": {
      "needs_background": "light"
     },
     "output_type": "display_data"
    }
   ],
   "source": [
    "arima.plot_predictions()"
   ]
  },
  {
   "cell_type": "code",
   "execution_count": 70,
   "metadata": {},
   "outputs": [
    {
     "name": "stdout",
     "output_type": "stream",
     "text": [
      "('us-east-1b', 'a1.large', 'SUSE Linux')\n",
      "0 3.5691566787362986e-09\n",
      "('us-east-1b', 'a1.large', 'Linux/UNIX')\n",
      "1 3.545940337083809e-09\n",
      "('us-east-1b', 'a1.xlarge', 'SUSE Linux')\n",
      "2 3.0602049093564593e-15\n",
      "('us-east-1b', 'a1.xlarge', 'Linux/UNIX')\n",
      "3 1.4586956134011473e-17\n",
      "('us-east-1b', 'a1.2xlarge', 'SUSE Linux')\n",
      "4 2.2328861604721457e-15\n",
      "('us-east-1b', 'a1.2xlarge', 'Linux/UNIX')\n",
      "5 1.424977894527717e-15\n",
      "('us-east-1b', 'a1.4xlarge', 'SUSE Linux')\n",
      "6 4.172392777776224e-15\n",
      "('us-east-1b', 'a1.4xlarge', 'Linux/UNIX')\n",
      "7 2.0841482070781634e-15\n",
      "('us-east-1b', 'm4.large', 'SUSE Linux')\n"
     ]
    },
    {
     "name": "stderr",
     "output_type": "stream",
     "text": [
      "/anaconda3/lib/python3.6/site-packages/statsmodels/base/model.py:508: ConvergenceWarning: Maximum Likelihood optimization failed to converge. Check mle_retvals\n",
      "  \"Check mle_retvals\", ConvergenceWarning)\n"
     ]
    },
    {
     "name": "stdout",
     "output_type": "stream",
     "text": [
      "8 2.1115809201863463e-13\n",
      "('us-east-1b', 'm4.large', 'Linux/UNIX')\n",
      "9 2.1111679671915164e-13\n",
      "('us-east-1b', 'm4.xlarge', 'SUSE Linux')\n",
      "10 4.586287661809957e-08\n",
      "('us-east-1b', 'm4.xlarge', 'Linux/UNIX')\n",
      "11 4.586307684866873e-08\n",
      "('us-east-1b', 'm4.2xlarge', 'SUSE Linux')\n",
      "12 6.638281079071578e-06\n",
      "('us-east-1b', 'm4.2xlarge', 'Linux/UNIX')\n",
      "13 6.6441869662260555e-06\n",
      "('us-east-1b', 'm4.4xlarge', 'SUSE Linux')\n",
      "14 0.00030890539157873737\n",
      "('us-east-1b', 'm4.4xlarge', 'Linux/UNIX')\n",
      "15 0.00030890350748193654\n",
      "('us-east-1b', 'm4.10xlarge', 'SUSE Linux')\n"
     ]
    },
    {
     "name": "stderr",
     "output_type": "stream",
     "text": [
      "/anaconda3/lib/python3.6/site-packages/statsmodels/tsa/tsatools.py:607: RuntimeWarning: invalid value encountered in true_divide\n",
      "  (1+np.exp(-params))).copy()\n",
      "/anaconda3/lib/python3.6/site-packages/statsmodels/tsa/tsatools.py:609: RuntimeWarning: invalid value encountered in true_divide\n",
      "  (1+np.exp(-params))).copy()\n"
     ]
    },
    {
     "name": "stdout",
     "output_type": "stream",
     "text": [
      "16 Error\n",
      "('us-east-1b', 'm4.10xlarge', 'Linux/UNIX')\n",
      "17 2.040511231556327e-05\n",
      "('us-east-1b', 'm4.16xlarge', 'SUSE Linux')\n"
     ]
    },
    {
     "name": "stderr",
     "output_type": "stream",
     "text": [
      "/anaconda3/lib/python3.6/site-packages/statsmodels/tsa/tsatools.py:607: RuntimeWarning: invalid value encountered in true_divide\n",
      "  (1+np.exp(-params))).copy()\n",
      "/anaconda3/lib/python3.6/site-packages/statsmodels/tsa/tsatools.py:609: RuntimeWarning: invalid value encountered in true_divide\n",
      "  (1+np.exp(-params))).copy()\n"
     ]
    },
    {
     "name": "stdout",
     "output_type": "stream",
     "text": [
      "18 Error\n",
      "('us-east-1b', 'm4.16xlarge', 'Linux/UNIX')\n",
      "19 Error\n",
      "0.0006515953209072815\n"
     ]
    }
   ],
   "source": [
    "arima.pipeline_iteration(df, instances_with_price_changes)"
   ]
  },
  {
   "cell_type": "code",
   "execution_count": 62,
   "metadata": {},
   "outputs": [
    {
     "name": "stdout",
     "output_type": "stream",
     "text": [
      "0 6.246051137338585e-15\n",
      "1 3.2334083645640432e-15\n",
      "2 6.878812305037382e-15\n",
      "3 5.0909337457881574e-15\n",
      "4 8.29578938960043e-15\n",
      "5 3.5180453984643145e-14\n",
      "6 7.120198207964923e-15\n",
      "7 1.0419440925927956e-14\n",
      "8 1.700756028860316e-10\n",
      "9 1.5718601865256368e-10\n",
      "10 1.936356931117059e-08\n",
      "11 1.936558399223881e-08\n",
      "12 5.799865789379313e-06\n",
      "13 5.799680532666958e-06\n",
      "14 0.00011585393601806142\n",
      "15 0.0001158530334363937\n"
     ]
    },
    {
     "name": "stderr",
     "output_type": "stream",
     "text": [
      "/anaconda3/lib/python3.6/site-packages/statsmodels/tsa/tsatools.py:607: RuntimeWarning: invalid value encountered in true_divide\n",
      "  (1+np.exp(-params))).copy()\n",
      "/anaconda3/lib/python3.6/site-packages/statsmodels/tsa/tsatools.py:609: RuntimeWarning: invalid value encountered in true_divide\n",
      "  (1+np.exp(-params))).copy()\n"
     ]
    },
    {
     "name": "stdout",
     "output_type": "stream",
     "text": [
      "16 Error\n",
      "17 0.00012616673789721128\n"
     ]
    },
    {
     "name": "stderr",
     "output_type": "stream",
     "text": [
      "/anaconda3/lib/python3.6/site-packages/statsmodels/tsa/tsatools.py:607: RuntimeWarning: invalid value encountered in true_divide\n",
      "  (1+np.exp(-params))).copy()\n",
      "/anaconda3/lib/python3.6/site-packages/statsmodels/tsa/tsatools.py:609: RuntimeWarning: invalid value encountered in true_divide\n",
      "  (1+np.exp(-params))).copy()\n"
     ]
    },
    {
     "name": "stdout",
     "output_type": "stream",
     "text": [
      "18 Error\n",
      "19 Error\n",
      "20 8.638467086090322e-09\n",
      "21 1.3349145632263292e-08\n",
      "22 4.8694040198374474e-05\n",
      "23 4.8681613849814604e-05\n",
      "24 0.00023636833450401413\n",
      "25 0.0002363683577240692\n",
      "26 0.001191791430655667\n",
      "27 0.0011917909907139628\n",
      "28 7.26467739448387e-06\n",
      "29 7.263854647741483e-06\n",
      "30 Error\n"
     ]
    },
    {
     "name": "stderr",
     "output_type": "stream",
     "text": [
      "/anaconda3/lib/python3.6/site-packages/statsmodels/regression/linear_model.py:1283: RuntimeWarning: invalid value encountered in sqrt\n",
      "  return rho, np.sqrt(sigmasq)\n"
     ]
    },
    {
     "name": "stdout",
     "output_type": "stream",
     "text": [
      "31 Error\n",
      "32 Error\n"
     ]
    },
    {
     "name": "stderr",
     "output_type": "stream",
     "text": [
      "/anaconda3/lib/python3.6/site-packages/statsmodels/base/model.py:508: ConvergenceWarning: Maximum Likelihood optimization failed to converge. Check mle_retvals\n",
      "  \"Check mle_retvals\", ConvergenceWarning)\n"
     ]
    },
    {
     "name": "stdout",
     "output_type": "stream",
     "text": [
      "33 6.486530475347573e-09\n",
      "34 6.486530472106203e-09\n"
     ]
    },
    {
     "name": "stderr",
     "output_type": "stream",
     "text": [
      "/anaconda3/lib/python3.6/site-packages/statsmodels/tsa/tsatools.py:607: RuntimeWarning: invalid value encountered in true_divide\n",
      "  (1+np.exp(-params))).copy()\n",
      "/anaconda3/lib/python3.6/site-packages/statsmodels/tsa/tsatools.py:609: RuntimeWarning: invalid value encountered in true_divide\n",
      "  (1+np.exp(-params))).copy()\n"
     ]
    },
    {
     "name": "stdout",
     "output_type": "stream",
     "text": [
      "35 Error\n",
      "36 5.814139447529514e-06\n",
      "37 4.3763269050392474e-05\n",
      "38 4.3762667337627485e-05\n",
      "39 0.0003174906372697893\n",
      "40 0.000317479599490016\n",
      "41 5.550556061047347e-15\n",
      "42 7.811460540907792e-15\n",
      "43 Error\n",
      "44 Error\n",
      "45 Error\n",
      "46 1.2483942846424503e-07\n"
     ]
    },
    {
     "name": "stderr",
     "output_type": "stream",
     "text": [
      "/anaconda3/lib/python3.6/site-packages/statsmodels/tsa/tsatools.py:607: RuntimeWarning: invalid value encountered in true_divide\n",
      "  (1+np.exp(-params))).copy()\n",
      "/anaconda3/lib/python3.6/site-packages/statsmodels/tsa/tsatools.py:609: RuntimeWarning: invalid value encountered in true_divide\n",
      "  (1+np.exp(-params))).copy()\n"
     ]
    },
    {
     "name": "stdout",
     "output_type": "stream",
     "text": [
      "47 Error\n",
      "48 3.0561973991678496e-05\n",
      "49 3.0566152632850015e-05\n"
     ]
    }
   ],
   "source": [
    "failed_list = []\n",
    "for i in range(200):\n",
    "    \n",
    "    try:\n",
    "        ts = apply_mask(df, instances, i)\n",
    "        ds = downsample(ts)\n",
    "        train, test = train_test_split(ds)\n",
    "        tsmodel = create_a_model(train)\n",
    "        print(i, calculate_error(tsmodel))\n",
    "    except:\n",
    "        print(i, \"Error\")\n",
    "        failed_list.append(i)\n",
    "        continue"
   ]
  },
  {
   "cell_type": "code",
   "execution_count": null,
   "metadata": {},
   "outputs": [],
   "source": []
  },
  {
   "cell_type": "code",
   "execution_count": null,
   "metadata": {},
   "outputs": [],
   "source": [
    "kf = KalmanFilter()"
   ]
  },
  {
   "cell_type": "code",
   "execution_count": 320,
   "metadata": {},
   "outputs": [
    {
     "data": {
      "text/plain": [
       "68"
      ]
     },
     "execution_count": 320,
     "metadata": {},
     "output_type": "execute_result"
    }
   ],
   "source": [
    "len(failed_list)"
   ]
  },
  {
   "cell_type": "code",
   "execution_count": 222,
   "metadata": {},
   "outputs": [],
   "source": [
    "df = pd.read_pickle('all_regions.pkl')\n",
    "instance_ts = instances[10]\n",
    "mask = (df['AvailabilityZone'] == instance_ts[0]) & (df['InstanceType'] == instance_ts[1]) & (df['ProductDescription'] == instance_ts[2])\n",
    "price_series = df[mask]\n",
    "prices = price_series[[\"SpotPrice\"]]\n",
    "prices = prices.set_index(pd.DatetimeIndex(price_series.Timestamp))\n",
    "prices = prices.SpotPrice.resample('D').mean()"
   ]
  },
  {
   "cell_type": "code",
   "execution_count": null,
   "metadata": {},
   "outputs": [],
   "source": [
    "size = int(len(prices) * 0.70)\n",
    "train, test = prices[0:size], prices[size:len(prices)]"
   ]
  },
  {
   "cell_type": "code",
   "execution_count": 223,
   "metadata": {},
   "outputs": [
    {
     "data": {
      "text/html": [
       "<div>\n",
       "<style scoped>\n",
       "    .dataframe tbody tr th:only-of-type {\n",
       "        vertical-align: middle;\n",
       "    }\n",
       "\n",
       "    .dataframe tbody tr th {\n",
       "        vertical-align: top;\n",
       "    }\n",
       "\n",
       "    .dataframe thead th {\n",
       "        text-align: right;\n",
       "    }\n",
       "</style>\n",
       "<table border=\"1\" class=\"dataframe\">\n",
       "  <thead>\n",
       "    <tr style=\"text-align: right;\">\n",
       "      <th></th>\n",
       "      <th>index</th>\n",
       "      <th>Timestamp</th>\n",
       "      <th>AvailabilityZone</th>\n",
       "      <th>InstanceType</th>\n",
       "      <th>ProductDescription</th>\n",
       "      <th>SpotPrice</th>\n",
       "    </tr>\n",
       "  </thead>\n",
       "  <tbody>\n",
       "    <tr>\n",
       "      <th>5448</th>\n",
       "      <td>5448</td>\n",
       "      <td>2019-03-09 21:35:34+00:00</td>\n",
       "      <td>us-east-1b</td>\n",
       "      <td>m4.xlarge</td>\n",
       "      <td>SUSE Linux</td>\n",
       "      <td>0.1651</td>\n",
       "    </tr>\n",
       "    <tr>\n",
       "      <th>5458</th>\n",
       "      <td>5458</td>\n",
       "      <td>2019-03-08 22:57:38+00:00</td>\n",
       "      <td>us-east-1b</td>\n",
       "      <td>m4.xlarge</td>\n",
       "      <td>SUSE Linux</td>\n",
       "      <td>0.1652</td>\n",
       "    </tr>\n",
       "    <tr>\n",
       "      <th>5490</th>\n",
       "      <td>5490</td>\n",
       "      <td>2019-03-08 19:56:30+00:00</td>\n",
       "      <td>us-east-1b</td>\n",
       "      <td>m4.xlarge</td>\n",
       "      <td>SUSE Linux</td>\n",
       "      <td>0.1652</td>\n",
       "    </tr>\n",
       "    <tr>\n",
       "      <th>5512</th>\n",
       "      <td>5512</td>\n",
       "      <td>2019-03-07 19:56:25+00:00</td>\n",
       "      <td>us-east-1b</td>\n",
       "      <td>m4.xlarge</td>\n",
       "      <td>SUSE Linux</td>\n",
       "      <td>0.1652</td>\n",
       "    </tr>\n",
       "    <tr>\n",
       "      <th>5518</th>\n",
       "      <td>5518</td>\n",
       "      <td>2019-03-07 14:28:18+00:00</td>\n",
       "      <td>us-east-1b</td>\n",
       "      <td>m4.xlarge</td>\n",
       "      <td>SUSE Linux</td>\n",
       "      <td>0.1652</td>\n",
       "    </tr>\n",
       "  </tbody>\n",
       "</table>\n",
       "</div>"
      ],
      "text/plain": [
       "      index                 Timestamp AvailabilityZone InstanceType  \\\n",
       "5448   5448 2019-03-09 21:35:34+00:00       us-east-1b    m4.xlarge   \n",
       "5458   5458 2019-03-08 22:57:38+00:00       us-east-1b    m4.xlarge   \n",
       "5490   5490 2019-03-08 19:56:30+00:00       us-east-1b    m4.xlarge   \n",
       "5512   5512 2019-03-07 19:56:25+00:00       us-east-1b    m4.xlarge   \n",
       "5518   5518 2019-03-07 14:28:18+00:00       us-east-1b    m4.xlarge   \n",
       "\n",
       "     ProductDescription  SpotPrice  \n",
       "5448         SUSE Linux     0.1651  \n",
       "5458         SUSE Linux     0.1652  \n",
       "5490         SUSE Linux     0.1652  \n",
       "5512         SUSE Linux     0.1652  \n",
       "5518         SUSE Linux     0.1652  "
      ]
     },
     "execution_count": 223,
     "metadata": {},
     "output_type": "execute_result"
    }
   ],
   "source": [
    "price_series.head()"
   ]
  },
  {
   "cell_type": "code",
   "execution_count": 227,
   "metadata": {},
   "outputs": [
    {
     "name": "stderr",
     "output_type": "stream",
     "text": [
      "/anaconda3/lib/python3.6/site-packages/pandas/core/arrays/datetimes.py:1172: UserWarning: Converting to PeriodArray/Index representation will drop timezone information.\n",
      "  \"will drop timezone information.\", UserWarning)\n"
     ]
    },
    {
     "data": {
      "image/png": "[encoded data removed]",
      "text/plain": [
       "<Figure size 432x288 with 1 Axes>"
      ]
     },
     "metadata": {
      "needs_background": "light"
     },
     "output_type": "display_data"
    }
   ],
   "source": [
    "prices.plot()\n",
    "plt.xticks(rotation=50);"
   ]
  },
  {
   "cell_type": "code",
   "execution_count": 228,
   "metadata": {},
   "outputs": [
    {
     "data": {
      "image/png": "[encoded data removed]",
      "text/plain": [
       "<Figure size 432x288 with 1 Axes>"
      ]
     },
     "metadata": {
      "needs_background": "light"
     },
     "output_type": "display_data"
    }
   ],
   "source": [
    "autocorrelation_plot(prices);"
   ]
  },
  {
   "cell_type": "code",
   "execution_count": 229,
   "metadata": {},
   "outputs": [
    {
     "name": "stderr",
     "output_type": "stream",
     "text": [
      "/anaconda3/lib/python3.6/site-packages/statsmodels/regression/linear_model.py:1283: RuntimeWarning: invalid value encountered in sqrt\n",
      "  return rho, np.sqrt(sigmasq)\n"
     ]
    },
    {
     "data": {
      "image/png": "[encoded data removed]",
      "text/plain": [
       "<Figure size 432x288 with 1 Axes>"
      ]
     },
     "metadata": {
      "needs_background": "light"
     },
     "output_type": "display_data"
    }
   ],
   "source": [
    "fig = sm.graphics.tsa.plot_pacf(prices)"
   ]
  },
  {
   "cell_type": "markdown",
   "metadata": {},
   "source": [
    "## Create Model"
   ]
  },
  {
   "cell_type": "code",
   "execution_count": 56,
   "metadata": {},
   "outputs": [],
   "source": [
    "model = ARIMA(train, order=(10,1,0))\n",
    "model_fit = model.fit()"
   ]
  },
  {
   "cell_type": "code",
   "execution_count": 232,
   "metadata": {},
   "outputs": [
    {
     "data": {
      "text/html": [
       "<table class=\"simpletable\">\n",
       "<caption>ARIMA Model Results</caption>\n",
       "<tr>\n",
       "  <th>Dep. Variable:</th>    <td>D.SpotPrice</td>   <th>  No. Observations:  </th>    <td>61</td>    \n",
       "</tr>\n",
       "<tr>\n",
       "  <th>Model:</th>          <td>ARIMA(10, 1, 0)</td> <th>  Log Likelihood     </th>  <td>556.390</td> \n",
       "</tr>\n",
       "<tr>\n",
       "  <th>Method:</th>             <td>css-mle</td>     <th>  S.D. of innovations</th>   <td>0.000</td>  \n",
       "</tr>\n",
       "<tr>\n",
       "  <th>Date:</th>          <td>Thu, 14 Mar 2019</td> <th>  AIC                </th> <td>-1088.779</td>\n",
       "</tr>\n",
       "<tr>\n",
       "  <th>Time:</th>              <td>15:56:41</td>     <th>  BIC                </th> <td>-1063.449</td>\n",
       "</tr>\n",
       "<tr>\n",
       "  <th>Sample:</th>           <td>12-11-2018</td>    <th>  HQIC               </th> <td>-1078.852</td>\n",
       "</tr>\n",
       "<tr>\n",
       "  <th></th>                 <td>- 02-09-2019</td>   <th>                     </th>     <td> </td>    \n",
       "</tr>\n",
       "</table>\n",
       "<table class=\"simpletable\">\n",
       "<tr>\n",
       "           <td></td>             <th>coef</th>     <th>std err</th>      <th>z</th>      <th>P>|z|</th>  <th>[0.025</th>    <th>0.975]</th>  \n",
       "</tr>\n",
       "<tr>\n",
       "  <th>const</th>              <td> 1.693e-07</td> <td> 3.83e-06</td> <td>    0.044</td> <td> 0.965</td> <td>-7.35e-06</td> <td> 7.68e-06</td>\n",
       "</tr>\n",
       "<tr>\n",
       "  <th>ar.L1.D.SpotPrice</th>  <td>   -0.0431</td> <td>    0.128</td> <td>   -0.336</td> <td> 0.738</td> <td>   -0.295</td> <td>    0.208</td>\n",
       "</tr>\n",
       "<tr>\n",
       "  <th>ar.L2.D.SpotPrice</th>  <td>   -0.0041</td> <td>    0.129</td> <td>   -0.031</td> <td> 0.975</td> <td>   -0.257</td> <td>    0.249</td>\n",
       "</tr>\n",
       "<tr>\n",
       "  <th>ar.L3.D.SpotPrice</th>  <td>    0.4223</td> <td>    0.137</td> <td>    3.081</td> <td> 0.003</td> <td>    0.154</td> <td>    0.691</td>\n",
       "</tr>\n",
       "<tr>\n",
       "  <th>ar.L4.D.SpotPrice</th>  <td>    0.3694</td> <td>    0.168</td> <td>    2.201</td> <td> 0.032</td> <td>    0.040</td> <td>    0.698</td>\n",
       "</tr>\n",
       "<tr>\n",
       "  <th>ar.L5.D.SpotPrice</th>  <td>   -0.2144</td> <td>    0.175</td> <td>   -1.227</td> <td> 0.226</td> <td>   -0.557</td> <td>    0.128</td>\n",
       "</tr>\n",
       "<tr>\n",
       "  <th>ar.L6.D.SpotPrice</th>  <td>   -0.0563</td> <td>    0.173</td> <td>   -0.325</td> <td> 0.746</td> <td>   -0.396</td> <td>    0.283</td>\n",
       "</tr>\n",
       "<tr>\n",
       "  <th>ar.L7.D.SpotPrice</th>  <td>   -0.0092</td> <td>    0.164</td> <td>   -0.056</td> <td> 0.956</td> <td>   -0.330</td> <td>    0.312</td>\n",
       "</tr>\n",
       "<tr>\n",
       "  <th>ar.L8.D.SpotPrice</th>  <td>   -0.2390</td> <td>    0.155</td> <td>   -1.546</td> <td> 0.128</td> <td>   -0.542</td> <td>    0.064</td>\n",
       "</tr>\n",
       "<tr>\n",
       "  <th>ar.L9.D.SpotPrice</th>  <td>    0.0356</td> <td>    0.179</td> <td>    0.199</td> <td> 0.843</td> <td>   -0.315</td> <td>    0.386</td>\n",
       "</tr>\n",
       "<tr>\n",
       "  <th>ar.L10.D.SpotPrice</th> <td>   -0.2399</td> <td>    0.179</td> <td>   -1.342</td> <td> 0.186</td> <td>   -0.590</td> <td>    0.111</td>\n",
       "</tr>\n",
       "</table>\n",
       "<table class=\"simpletable\">\n",
       "<caption>Roots</caption>\n",
       "<tr>\n",
       "    <td></td>    <th>            Real</th>  <th>         Imaginary</th> <th>         Modulus</th>  <th>        Frequency</th>\n",
       "</tr>\n",
       "<tr>\n",
       "  <th>AR.1</th>  <td>           1.0129</td> <td>          -0.2892j</td> <td>           1.0534</td> <td>          -0.0443</td>\n",
       "</tr>\n",
       "<tr>\n",
       "  <th>AR.2</th>  <td>           1.0129</td> <td>          +0.2892j</td> <td>           1.0534</td> <td>           0.0443</td>\n",
       "</tr>\n",
       "<tr>\n",
       "  <th>AR.3</th>  <td>          -1.0450</td> <td>          -0.3384j</td> <td>           1.0985</td> <td>          -0.4502</td>\n",
       "</tr>\n",
       "<tr>\n",
       "  <th>AR.4</th>  <td>          -1.0450</td> <td>          +0.3384j</td> <td>           1.0985</td> <td>           0.4502</td>\n",
       "</tr>\n",
       "<tr>\n",
       "  <th>AR.5</th>  <td>           0.7264</td> <td>          -1.1085j</td> <td>           1.3253</td> <td>          -0.1577</td>\n",
       "</tr>\n",
       "<tr>\n",
       "  <th>AR.6</th>  <td>           0.7264</td> <td>          +1.1085j</td> <td>           1.3253</td> <td>           0.1577</td>\n",
       "</tr>\n",
       "<tr>\n",
       "  <th>AR.7</th>  <td>          -0.4521</td> <td>          -1.0181j</td> <td>           1.1140</td> <td>          -0.3165</td>\n",
       "</tr>\n",
       "<tr>\n",
       "  <th>AR.8</th>  <td>          -0.4521</td> <td>          +1.0181j</td> <td>           1.1140</td> <td>           0.3165</td>\n",
       "</tr>\n",
       "<tr>\n",
       "  <th>AR.9</th>  <td>          -0.1679</td> <td>          -1.1834j</td> <td>           1.1952</td> <td>          -0.2724</td>\n",
       "</tr>\n",
       "<tr>\n",
       "  <th>AR.10</th> <td>          -0.1679</td> <td>          +1.1834j</td> <td>           1.1952</td> <td>           0.2724</td>\n",
       "</tr>\n",
       "</table>"
      ],
      "text/plain": [
       "<class 'statsmodels.iolib.summary.Summary'>\n",
       "\"\"\"\n",
       "                             ARIMA Model Results                              \n",
       "==============================================================================\n",
       "Dep. Variable:            D.SpotPrice   No. Observations:                   61\n",
       "Model:                ARIMA(10, 1, 0)   Log Likelihood                 556.390\n",
       "Method:                       css-mle   S.D. of innovations              0.000\n",
       "Date:                Thu, 14 Mar 2019   AIC                          -1088.779\n",
       "Time:                        15:56:41   BIC                          -1063.449\n",
       "Sample:                    12-11-2018   HQIC                         -1078.852\n",
       "                         - 02-09-2019                                         \n",
       "======================================================================================\n",
       "                         coef    std err          z      P>|z|      [0.025      0.975]\n",
       "--------------------------------------------------------------------------------------\n",
       "const               1.693e-07   3.83e-06      0.044      0.965   -7.35e-06    7.68e-06\n",
       "ar.L1.D.SpotPrice     -0.0431      0.128     -0.336      0.738      -0.295       0.208\n",
       "ar.L2.D.SpotPrice     -0.0041      0.129     -0.031      0.975      -0.257       0.249\n",
       "ar.L3.D.SpotPrice      0.4223      0.137      3.081      0.003       0.154       0.691\n",
       "ar.L4.D.SpotPrice      0.3694      0.168      2.201      0.032       0.040       0.698\n",
       "ar.L5.D.SpotPrice     -0.2144      0.175     -1.227      0.226      -0.557       0.128\n",
       "ar.L6.D.SpotPrice     -0.0563      0.173     -0.325      0.746      -0.396       0.283\n",
       "ar.L7.D.SpotPrice     -0.0092      0.164     -0.056      0.956      -0.330       0.312\n",
       "ar.L8.D.SpotPrice     -0.2390      0.155     -1.546      0.128      -0.542       0.064\n",
       "ar.L9.D.SpotPrice      0.0356      0.179      0.199      0.843      -0.315       0.386\n",
       "ar.L10.D.SpotPrice    -0.2399      0.179     -1.342      0.186      -0.590       0.111\n",
       "                                    Roots                                     \n",
       "==============================================================================\n",
       "                   Real          Imaginary           Modulus         Frequency\n",
       "------------------------------------------------------------------------------\n",
       "AR.1             1.0129           -0.2892j            1.0534           -0.0443\n",
       "AR.2             1.0129           +0.2892j            1.0534            0.0443\n",
       "AR.3            -1.0450           -0.3384j            1.0985           -0.4502\n",
       "AR.4            -1.0450           +0.3384j            1.0985            0.4502\n",
       "AR.5             0.7264           -1.1085j            1.3253           -0.1577\n",
       "AR.6             0.7264           +1.1085j            1.3253            0.1577\n",
       "AR.7            -0.4521           -1.0181j            1.1140           -0.3165\n",
       "AR.8            -0.4521           +1.0181j            1.1140            0.3165\n",
       "AR.9            -0.1679           -1.1834j            1.1952           -0.2724\n",
       "AR.10           -0.1679           +1.1834j            1.1952            0.2724\n",
       "------------------------------------------------------------------------------\n",
       "\"\"\""
      ]
     },
     "execution_count": 232,
     "metadata": {},
     "output_type": "execute_result"
    }
   ],
   "source": [
    "model_fit.summary()"
   ]
  },
  {
   "cell_type": "code",
   "execution_count": 233,
   "metadata": {},
   "outputs": [
    {
     "name": "stderr",
     "output_type": "stream",
     "text": [
      "/anaconda3/lib/python3.6/site-packages/pandas/core/arrays/datetimes.py:1172: UserWarning: Converting to PeriodArray/Index representation will drop timezone information.\n",
      "  \"will drop timezone information.\", UserWarning)\n"
     ]
    },
    {
     "data": {
      "image/png": "[encoded data removed]",
      "text/plain": [
       "<Figure size 432x288 with 1 Axes>"
      ]
     },
     "metadata": {
      "needs_background": "light"
     },
     "output_type": "display_data"
    }
   ],
   "source": [
    "residuals = pd.DataFrame(model_fit.resid)\n",
    "residuals.plot()\n",
    "plt.xticks(rotation=50);"
   ]
  },
  {
   "cell_type": "code",
   "execution_count": 234,
   "metadata": {},
   "outputs": [
    {
     "data": {
      "image/png": "[encoded data removed]",
      "text/plain": [
       "<Figure size 432x288 with 1 Axes>"
      ]
     },
     "metadata": {
      "needs_background": "light"
     },
     "output_type": "display_data"
    }
   ],
   "source": [
    "residuals.plot(kind='kde');"
   ]
  },
  {
   "cell_type": "code",
   "execution_count": null,
   "metadata": {},
   "outputs": [],
   "source": [
    "forecasted_values = model_fit.forecast(len(test))\n",
    "predictions = forecasted_values[0]\n",
    "error = mean_squared_error(test, predictions)\n",
    "error"
   ]
  },
  {
   "cell_type": "code",
   "execution_count": 235,
   "metadata": {},
   "outputs": [],
   "source": [
    "forecasted_values = model_fit.forecast(len(test))"
   ]
  },
  {
   "cell_type": "code",
   "execution_count": 236,
   "metadata": {},
   "outputs": [],
   "source": [
    "predictions = forecasted_values[0]"
   ]
  },
  {
   "cell_type": "code",
   "execution_count": 237,
   "metadata": {},
   "outputs": [
    {
     "data": {
      "text/plain": [
       "2.1229118544869655e-08"
      ]
     },
     "execution_count": 237,
     "metadata": {},
     "output_type": "execute_result"
    }
   ],
   "source": [
    "error = mean_squared_error(test, predictions)\n",
    "error"
   ]
  },
  {
   "cell_type": "markdown",
   "metadata": {},
   "source": [
    "#Build a function"
   ]
  },
  {
   "cell_type": "code",
   "execution_count": null,
   "metadata": {},
   "outputs": [],
   "source": []
  },
  {
   "cell_type": "code",
   "execution_count": null,
   "metadata": {},
   "outputs": [],
   "source": []
  },
  {
   "cell_type": "code",
   "execution_count": 201,
   "metadata": {},
   "outputs": [],
   "source": [
    "size = int(len(prices) * 0.66)"
   ]
  },
  {
   "cell_type": "code",
   "execution_count": 60,
   "metadata": {},
   "outputs": [],
   "source": [
    "train, test = prices[0:size], prices[size:len(prices)]"
   ]
  },
  {
   "cell_type": "code",
   "execution_count": 182,
   "metadata": {},
   "outputs": [
    {
     "data": {
      "text/plain": [
       "47"
      ]
     },
     "execution_count": 182,
     "metadata": {},
     "output_type": "execute_result"
    }
   ],
   "source": [
    "len(test)"
   ]
  },
  {
   "cell_type": "code",
   "execution_count": 61,
   "metadata": {},
   "outputs": [],
   "source": [
    "history = [x for x in train]"
   ]
  },
  {
   "cell_type": "code",
   "execution_count": 62,
   "metadata": {},
   "outputs": [],
   "source": [
    "predictions = list()"
   ]
  },
  {
   "cell_type": "code",
   "execution_count": 63,
   "metadata": {},
   "outputs": [],
   "source": [
    "model = ARIMA(history, order=(5,1,0))"
   ]
  },
  {
   "cell_type": "code",
   "execution_count": 70,
   "metadata": {},
   "outputs": [],
   "source": [
    "results = model.fit()"
   ]
  },
  {
   "cell_type": "code",
   "execution_count": 184,
   "metadata": {},
   "outputs": [
    {
     "data": {
      "image/png": "[encoded data removed]",
      "text/plain": [
       "<Figure size 432x288 with 1 Axes>"
      ]
     },
     "execution_count": 184,
     "metadata": {},
     "output_type": "execute_result"
    },
    {
     "data": {
      "image/png": "[encoded data removed]",
      "text/plain": [
       "<Figure size 432x288 with 1 Axes>"
      ]
     },
     "metadata": {
      "needs_background": "light"
     },
     "output_type": "display_data"
    }
   ],
   "source": [
    "results.plot_predict()"
   ]
  },
  {
   "cell_type": "code",
   "execution_count": 183,
   "metadata": {},
   "outputs": [
    {
     "data": {
      "text/plain": [
       "(array([0.08842506, 0.08616059, 0.0842862 , 0.08353384, 0.08221251,\n",
       "        0.08125883, 0.08081035, 0.08011228, 0.07966312, 0.07943226,\n",
       "        0.07909702, 0.0789113 , 0.07881725, 0.07868326, 0.07863354,\n",
       "        0.07862155, 0.07859665, 0.07861736, 0.07865341, 0.07868692,\n",
       "        0.07874441, 0.07880816, 0.07887272, 0.07894961, 0.07902913,\n",
       "        0.07911012, 0.07919736, 0.07928575, 0.07937543, 0.07946823,\n",
       "        0.07956158, 0.07965584, 0.07975164, 0.07984774, 0.07994442,\n",
       "        0.08004187, 0.08013948, 0.08023744, 0.08033577, 0.08043421,\n",
       "        0.08053285, 0.08063168, 0.08073056, 0.08082957, 0.08092866,\n",
       "        0.08102779, 0.08112698]),\n",
       " array([0.00128879, 0.00243825, 0.00360943, 0.00512667, 0.00663723,\n",
       "        0.00812155, 0.00967531, 0.01117783, 0.0126342 , 0.01407598,\n",
       "        0.01546026, 0.01679611, 0.01809549, 0.01934389, 0.02054874,\n",
       "        0.02171548, 0.02284009, 0.0239278 , 0.02498166, 0.0260014 ,\n",
       "        0.02699054, 0.02795113, 0.02888407, 0.02979177, 0.03067574,\n",
       "        0.03153711, 0.03237757, 0.03319829, 0.03400032, 0.03478486,\n",
       "        0.03555286, 0.03630519, 0.03704276, 0.03776631, 0.03847655,\n",
       "        0.03917418, 0.0398598 , 0.04053397, 0.04119725, 0.04185012,\n",
       "        0.04249304, 0.04312644, 0.04375073, 0.04436627, 0.04497343,\n",
       "        0.04557252, 0.04616386]),\n",
       " array([[ 0.08589908,  0.09095104],\n",
       "        [ 0.08138171,  0.09093947],\n",
       "        [ 0.07721184,  0.09136055],\n",
       "        [ 0.07348576,  0.09358193],\n",
       "        [ 0.06920377,  0.09522125],\n",
       "        [ 0.06534089,  0.09717677],\n",
       "        [ 0.06184709,  0.09977361],\n",
       "        [ 0.05820413,  0.10202044],\n",
       "        [ 0.05490055,  0.10442568],\n",
       "        [ 0.05184386,  0.10702067],\n",
       "        [ 0.04879547,  0.10939857],\n",
       "        [ 0.04599153,  0.11183107],\n",
       "        [ 0.04335075,  0.11428376],\n",
       "        [ 0.04076994,  0.11659658],\n",
       "        [ 0.03835875,  0.11890834],\n",
       "        [ 0.03605999,  0.1211831 ],\n",
       "        [ 0.03383089,  0.12336241],\n",
       "        [ 0.03171972,  0.12551499],\n",
       "        [ 0.02969025,  0.12761657],\n",
       "        [ 0.02772512,  0.12964873],\n",
       "        [ 0.02584393,  0.13164489],\n",
       "        [ 0.02402494,  0.13359137],\n",
       "        [ 0.02226098,  0.13548446],\n",
       "        [ 0.02055882,  0.1373404 ],\n",
       "        [ 0.01890578,  0.13915248],\n",
       "        [ 0.01729852,  0.14092173],\n",
       "        [ 0.01573849,  0.14265622],\n",
       "        [ 0.0142183 ,  0.14435321],\n",
       "        [ 0.01273604,  0.14601483],\n",
       "        [ 0.01129115,  0.1476453 ],\n",
       "        [ 0.00987925,  0.14924391],\n",
       "        [ 0.00849897,  0.15081271],\n",
       "        [ 0.00714917,  0.15235412],\n",
       "        [ 0.00582713,  0.15386835],\n",
       "        [ 0.00453177,  0.15535708],\n",
       "        [ 0.00326188,  0.15682185],\n",
       "        [ 0.00201571,  0.15826325],\n",
       "        [ 0.00079231,  0.15968257],\n",
       "        [-0.00040936,  0.1610809 ],\n",
       "        [-0.00159052,  0.16245894],\n",
       "        [-0.00275197,  0.16381767],\n",
       "        [-0.00389459,  0.16515795],\n",
       "        [-0.00501929,  0.16648041],\n",
       "        [-0.00612673,  0.16778586],\n",
       "        [-0.00721764,  0.16907496],\n",
       "        [-0.00829271,  0.17034829],\n",
       "        [-0.00935253,  0.1716065 ]]))"
      ]
     },
     "execution_count": 183,
     "metadata": {},
     "output_type": "execute_result"
    }
   ],
   "source": [
    "results.forecast(47)"
   ]
  },
  {
   "cell_type": "code",
   "execution_count": 76,
   "metadata": {},
   "outputs": [
    {
     "data": {
      "text/plain": [
       "array([ 9.94173830e-05,  2.41383983e-05,  1.85350727e-05,  1.35439017e-05,\n",
       "        1.76779635e-05,  1.73947367e-05,  1.73947367e-05,  1.73947367e-05,\n",
       "        1.73947367e-05,  1.73947367e-05,  1.73947367e-05,  1.73947367e-05,\n",
       "        1.73947367e-05,  1.73947367e-05,  1.73947367e-05,  1.73947367e-05,\n",
       "        1.73947367e-05,  1.73947367e-05,  1.73947367e-05,  1.73947367e-05,\n",
       "        1.73947367e-05,  1.73947367e-05,  1.73947367e-05,  1.73947367e-05,\n",
       "        1.73947367e-05,  1.73947367e-05,  1.73947367e-05,  1.73947367e-05,\n",
       "        1.73947367e-05,  1.73947367e-05,  1.73947367e-05,  1.73947367e-05,\n",
       "        1.73947367e-05,  1.73947367e-05,  1.73947367e-05,  1.73947367e-05,\n",
       "        1.73947367e-05,  1.73947367e-05,  1.73947367e-05,  1.73947367e-05,\n",
       "        1.73947367e-05,  1.73947367e-05,  1.73947367e-05,  1.73947367e-05,\n",
       "        1.73947367e-05,  1.73947367e-05,  3.20397172e-04,  1.82069750e-03,\n",
       "        1.10260099e-03,  2.58122498e-03, -2.50520515e-04,  2.06222026e-03,\n",
       "        9.04948085e-04,  1.86934523e-03,  1.98127707e-03,  1.55078974e-03,\n",
       "        1.04518173e-03,  1.79661813e-03, -2.56266634e-04,  3.58341519e-03,\n",
       "        1.58579397e-03,  1.91121250e-03,  1.43643852e-03,  2.31739742e-03,\n",
       "        3.43440085e-03,  3.97757456e-03,  2.70828219e-03,  3.38659682e-03,\n",
       "        2.78593267e-03,  4.13604903e-03,  3.05142918e-03,  4.46557236e-03,\n",
       "        3.83279066e-03,  1.20264923e-03, -1.43762722e-03, -4.26636874e-03,\n",
       "       -4.50973681e-03, -3.30386256e-03, -3.02601949e-03, -3.13596897e-03,\n",
       "       -3.02999371e-03, -2.67864948e-03, -3.00753690e-03, -2.22072269e-03,\n",
       "       -7.42699859e-04, -1.72721295e-03, -1.64823970e-03, -1.23372460e-03,\n",
       "       -3.05257417e-03])"
      ]
     },
     "execution_count": 76,
     "metadata": {},
     "output_type": "execute_result"
    }
   ],
   "source": [
    "results.predict()"
   ]
  },
  {
   "cell_type": "code",
   "execution_count": 21,
   "metadata": {},
   "outputs": [
    {
     "ename": "NameError",
     "evalue": "name 'test' is not defined",
     "output_type": "error",
     "traceback": [
      "\u001b[0;31m---------------------------------------------------------------------------\u001b[0m",
      "\u001b[0;31mNameError\u001b[0m                                 Traceback (most recent call last)",
      "\u001b[0;32m<ipython-input-21-2275b8f17fb9>\u001b[0m in \u001b[0;36m<module>\u001b[0;34m\u001b[0m\n\u001b[0;32m----> 1\u001b[0;31m \u001b[0;32mfor\u001b[0m \u001b[0mt\u001b[0m \u001b[0;32min\u001b[0m \u001b[0mrange\u001b[0m\u001b[0;34m(\u001b[0m\u001b[0mlen\u001b[0m\u001b[0;34m(\u001b[0m\u001b[0mtest\u001b[0m\u001b[0;34m)\u001b[0m\u001b[0;34m)\u001b[0m\u001b[0;34m:\u001b[0m\u001b[0;34m\u001b[0m\u001b[0;34m\u001b[0m\u001b[0m\n\u001b[0m\u001b[1;32m      2\u001b[0m         \u001b[0mmodel\u001b[0m \u001b[0;34m=\u001b[0m \u001b[0mARIMA\u001b[0m\u001b[0;34m(\u001b[0m\u001b[0mhistory\u001b[0m\u001b[0;34m,\u001b[0m \u001b[0morder\u001b[0m\u001b[0;34m=\u001b[0m\u001b[0;34m(\u001b[0m\u001b[0;36m5\u001b[0m\u001b[0;34m,\u001b[0m\u001b[0;36m1\u001b[0m\u001b[0;34m,\u001b[0m\u001b[0;36m0\u001b[0m\u001b[0;34m)\u001b[0m\u001b[0;34m)\u001b[0m\u001b[0;34m\u001b[0m\u001b[0;34m\u001b[0m\u001b[0m\n\u001b[1;32m      3\u001b[0m         \u001b[0mmodel_fit\u001b[0m \u001b[0;34m=\u001b[0m \u001b[0mmodel\u001b[0m\u001b[0;34m.\u001b[0m\u001b[0mfit\u001b[0m\u001b[0;34m(\u001b[0m\u001b[0mdisp\u001b[0m\u001b[0;34m=\u001b[0m\u001b[0;36m0\u001b[0m\u001b[0;34m)\u001b[0m\u001b[0;34m\u001b[0m\u001b[0;34m\u001b[0m\u001b[0m\n\u001b[1;32m      4\u001b[0m         \u001b[0moutput\u001b[0m \u001b[0;34m=\u001b[0m \u001b[0mmodel_fit\u001b[0m\u001b[0;34m.\u001b[0m\u001b[0mforecast\u001b[0m\u001b[0;34m(\u001b[0m\u001b[0;34m)\u001b[0m\u001b[0;34m\u001b[0m\u001b[0;34m\u001b[0m\u001b[0m\n\u001b[1;32m      5\u001b[0m         \u001b[0myhat\u001b[0m \u001b[0;34m=\u001b[0m \u001b[0moutput\u001b[0m\u001b[0;34m[\u001b[0m\u001b[0;36m0\u001b[0m\u001b[0;34m]\u001b[0m\u001b[0;34m\u001b[0m\u001b[0;34m\u001b[0m\u001b[0m\n",
      "\u001b[0;31mNameError\u001b[0m: name 'test' is not defined"
     ]
    }
   ],
   "source": [
    "for t in range(len(test)):\n",
    "\tmodel = ARIMA(history, order=(5,1,0))\n",
    "\tmodel_fit = model.fit(disp=0)\n",
    "\toutput = model_fit.forecast()\n",
    "\tyhat = output[0]\n",
    "\tpredictions.append(yhat)\n",
    "\tobs = test[t]\n",
    "\thistory.append(obs)\n",
    "\tprint('predicted=%f, expected=%f' % (yhat, obs))\n",
    "error = mean_squared_error(test, predictions)\n",
    "print('Test MSE: %.3f' % error)\n",
    "pyplot.plot(test)\n",
    "pyplot.plot(predictions, color='red')\n",
    "pyplot.show()"
   ]
  },
  {
   "cell_type": "markdown",
   "metadata": {},
   "source": [
    "How to set up an AWS spot instance:\n",
    "https://aws.amazon.com/blogs/compute/taking-advantage-of-amazon-ec2-spot-instance-interruption-notices/"
   ]
  },
  {
   "cell_type": "code",
   "execution_count": 115,
   "metadata": {},
   "outputs": [
    {
     "name": "stdout",
     "output_type": "stream",
     "text": [
      "predicted=0.016800, expected=0.018600\n",
      "predicted=0.019768, expected=0.018100\n",
      "predicted=0.017877, expected=0.017200\n",
      "predicted=0.017482, expected=0.016900\n",
      "predicted=0.016531, expected=0.016800\n",
      "predicted=0.016412, expected=0.016800\n",
      "predicted=0.016491, expected=0.016800\n",
      "predicted=0.016998, expected=0.016800\n",
      "predicted=0.016774, expected=0.016800\n",
      "predicted=0.016829, expected=0.016800\n",
      "predicted=0.016852, expected=0.016800\n",
      "predicted=0.016813, expected=0.016800\n",
      "predicted=0.016806, expected=0.017000\n",
      "predicted=0.017106, expected=0.017400\n",
      "predicted=0.017598, expected=0.017400\n",
      "predicted=0.017426, expected=0.017900\n",
      "predicted=0.018264, expected=0.018600\n",
      "predicted=0.018910, expected=0.019200\n",
      "predicted=0.019582, expected=0.019100\n",
      "predicted=0.019144, expected=0.019100\n",
      "predicted=0.019239, expected=0.018500\n",
      "predicted=0.018030, expected=0.017900\n",
      "predicted=0.017550, expected=0.017400\n",
      "predicted=0.016964, expected=0.017000\n",
      "predicted=0.016684, expected=0.016800\n",
      "predicted=0.016620, expected=0.016800\n",
      "predicted=0.016833, expected=0.016800\n",
      "predicted=0.016837, expected=0.016800\n",
      "predicted=0.016890, expected=0.016800\n",
      "predicted=0.016858, expected=0.016800\n",
      "predicted=0.016827, expected=0.017100\n",
      "predicted=0.017276, expected=0.017900\n",
      "predicted=0.018330, expected=0.018100\n",
      "predicted=0.018232, expected=0.019000\n",
      "predicted=0.019662, expected=0.019900\n",
      "predicted=0.020340, expected=0.019200\n",
      "predicted=0.018943, expected=0.019200\n",
      "predicted=0.019365, expected=0.018700\n",
      "predicted=0.018123, expected=0.018200\n",
      "predicted=0.017879, expected=0.017500\n",
      "predicted=0.016989, expected=0.017000\n",
      "predicted=0.016752, expected=0.016800\n",
      "predicted=0.016508, expected=0.016800\n",
      "predicted=0.016848, expected=0.016800\n",
      "predicted=0.016869, expected=0.016800\n",
      "predicted=0.016929, expected=0.016800\n",
      "predicted=0.016865, expected=0.016800\n",
      "predicted=0.016833, expected=0.016800\n",
      "predicted=0.016813, expected=0.016800\n",
      "predicted=0.016808, expected=0.016800\n",
      "predicted=0.016800, expected=0.016800\n"
     ]
    },
    {
     "ename": "ValueError",
     "evalue": "Found input variables with inconsistent numbers of samples: [51, 102]",
     "output_type": "error",
     "traceback": [
      "\u001b[0;31m---------------------------------------------------------------------------\u001b[0m",
      "\u001b[0;31mValueError\u001b[0m                                Traceback (most recent call last)",
      "\u001b[0;32m<ipython-input-115-21bb24348ecc>\u001b[0m in \u001b[0;36m<module>\u001b[0;34m\u001b[0m\n\u001b[1;32m      8\u001b[0m         \u001b[0mhistory\u001b[0m\u001b[0;34m.\u001b[0m\u001b[0mappend\u001b[0m\u001b[0;34m(\u001b[0m\u001b[0mobs\u001b[0m\u001b[0;34m)\u001b[0m\u001b[0;34m\u001b[0m\u001b[0;34m\u001b[0m\u001b[0m\n\u001b[1;32m      9\u001b[0m         \u001b[0mprint\u001b[0m\u001b[0;34m(\u001b[0m\u001b[0;34m'predicted=%f, expected=%f'\u001b[0m \u001b[0;34m%\u001b[0m \u001b[0;34m(\u001b[0m\u001b[0myhat\u001b[0m\u001b[0;34m,\u001b[0m \u001b[0mobs\u001b[0m\u001b[0;34m)\u001b[0m\u001b[0;34m)\u001b[0m\u001b[0;34m\u001b[0m\u001b[0;34m\u001b[0m\u001b[0m\n\u001b[0;32m---> 10\u001b[0;31m \u001b[0merror\u001b[0m \u001b[0;34m=\u001b[0m \u001b[0mmean_squared_error\u001b[0m\u001b[0;34m(\u001b[0m\u001b[0mtest\u001b[0m\u001b[0;34m,\u001b[0m \u001b[0mpredictions\u001b[0m\u001b[0;34m)\u001b[0m\u001b[0;34m\u001b[0m\u001b[0;34m\u001b[0m\u001b[0m\n\u001b[0m\u001b[1;32m     11\u001b[0m \u001b[0mprint\u001b[0m\u001b[0;34m(\u001b[0m\u001b[0;34m'Test MSE: %.3f'\u001b[0m \u001b[0;34m%\u001b[0m \u001b[0merror\u001b[0m\u001b[0;34m)\u001b[0m\u001b[0;34m\u001b[0m\u001b[0;34m\u001b[0m\u001b[0m\n\u001b[1;32m     12\u001b[0m \u001b[0mpyplot\u001b[0m\u001b[0;34m.\u001b[0m\u001b[0mplot\u001b[0m\u001b[0;34m(\u001b[0m\u001b[0mtest\u001b[0m\u001b[0;34m)\u001b[0m\u001b[0;34m\u001b[0m\u001b[0;34m\u001b[0m\u001b[0m\n",
      "\u001b[0;32m/anaconda3/lib/python3.6/site-packages/sklearn/metrics/regression.py\u001b[0m in \u001b[0;36mmean_squared_error\u001b[0;34m(y_true, y_pred, sample_weight, multioutput)\u001b[0m\n\u001b[1;32m    237\u001b[0m     \"\"\"\n\u001b[1;32m    238\u001b[0m     y_type, y_true, y_pred, multioutput = _check_reg_targets(\n\u001b[0;32m--> 239\u001b[0;31m         y_true, y_pred, multioutput)\n\u001b[0m\u001b[1;32m    240\u001b[0m     \u001b[0mcheck_consistent_length\u001b[0m\u001b[0;34m(\u001b[0m\u001b[0my_true\u001b[0m\u001b[0;34m,\u001b[0m \u001b[0my_pred\u001b[0m\u001b[0;34m,\u001b[0m \u001b[0msample_weight\u001b[0m\u001b[0;34m)\u001b[0m\u001b[0;34m\u001b[0m\u001b[0;34m\u001b[0m\u001b[0m\n\u001b[1;32m    241\u001b[0m     output_errors = np.average((y_true - y_pred) ** 2, axis=0,\n",
      "\u001b[0;32m/anaconda3/lib/python3.6/site-packages/sklearn/metrics/regression.py\u001b[0m in \u001b[0;36m_check_reg_targets\u001b[0;34m(y_true, y_pred, multioutput)\u001b[0m\n\u001b[1;32m     73\u001b[0m \u001b[0;34m\u001b[0m\u001b[0m\n\u001b[1;32m     74\u001b[0m     \"\"\"\n\u001b[0;32m---> 75\u001b[0;31m     \u001b[0mcheck_consistent_length\u001b[0m\u001b[0;34m(\u001b[0m\u001b[0my_true\u001b[0m\u001b[0;34m,\u001b[0m \u001b[0my_pred\u001b[0m\u001b[0;34m)\u001b[0m\u001b[0;34m\u001b[0m\u001b[0;34m\u001b[0m\u001b[0m\n\u001b[0m\u001b[1;32m     76\u001b[0m     \u001b[0my_true\u001b[0m \u001b[0;34m=\u001b[0m \u001b[0mcheck_array\u001b[0m\u001b[0;34m(\u001b[0m\u001b[0my_true\u001b[0m\u001b[0;34m,\u001b[0m \u001b[0mensure_2d\u001b[0m\u001b[0;34m=\u001b[0m\u001b[0;32mFalse\u001b[0m\u001b[0;34m)\u001b[0m\u001b[0;34m\u001b[0m\u001b[0;34m\u001b[0m\u001b[0m\n\u001b[1;32m     77\u001b[0m     \u001b[0my_pred\u001b[0m \u001b[0;34m=\u001b[0m \u001b[0mcheck_array\u001b[0m\u001b[0;34m(\u001b[0m\u001b[0my_pred\u001b[0m\u001b[0;34m,\u001b[0m \u001b[0mensure_2d\u001b[0m\u001b[0;34m=\u001b[0m\u001b[0;32mFalse\u001b[0m\u001b[0;34m)\u001b[0m\u001b[0;34m\u001b[0m\u001b[0;34m\u001b[0m\u001b[0m\n",
      "\u001b[0;32m/anaconda3/lib/python3.6/site-packages/sklearn/utils/validation.py\u001b[0m in \u001b[0;36mcheck_consistent_length\u001b[0;34m(*arrays)\u001b[0m\n\u001b[1;32m    233\u001b[0m     \u001b[0;32mif\u001b[0m \u001b[0mlen\u001b[0m\u001b[0;34m(\u001b[0m\u001b[0muniques\u001b[0m\u001b[0;34m)\u001b[0m \u001b[0;34m>\u001b[0m \u001b[0;36m1\u001b[0m\u001b[0;34m:\u001b[0m\u001b[0;34m\u001b[0m\u001b[0;34m\u001b[0m\u001b[0m\n\u001b[1;32m    234\u001b[0m         raise ValueError(\"Found input variables with inconsistent numbers of\"\n\u001b[0;32m--> 235\u001b[0;31m                          \" samples: %r\" % [int(l) for l in lengths])\n\u001b[0m\u001b[1;32m    236\u001b[0m \u001b[0;34m\u001b[0m\u001b[0m\n\u001b[1;32m    237\u001b[0m \u001b[0;34m\u001b[0m\u001b[0m\n",
      "\u001b[0;31mValueError\u001b[0m: Found input variables with inconsistent numbers of samples: [51, 102]"
     ]
    }
   ],
   "source": [
    "for t in range(len(test)):\n",
    "\tmodel = ARIMA(history, order=(8,1,0))\n",
    "\tmodel_fit = model.fit(disp=0)\n",
    "\toutput = model_fit.forecast()\n",
    "\tyhat = output[0]\n",
    "\tpredictions.append(yhat)\n",
    "\tobs = test[t]\n",
    "\thistory.append(obs)\n",
    "\tprint('predicted=%f, expected=%f' % (yhat, obs))\n",
    "error = mean_squared_error(test, predictions)\n",
    "print('Test MSE: %.3f' % error)\n",
    "pyplot.plot(test)\n",
    "pyplot.plot(predictions, color='red')\n",
    "pyplot.show()"
   ]
  },
  {
   "cell_type": "code",
   "execution_count": 281,
   "metadata": {},
   "outputs": [
    {
     "name": "stderr",
     "output_type": "stream",
     "text": [
      "/anaconda3/lib/python3.6/site-packages/statsmodels/tsa/base/tsa_model.py:221: ValueWarning: An unsupported index was provided and will be ignored when e.g. forecasting.\n",
      "  ' ignored when e.g. forecasting.', ValueWarning)\n",
      "/anaconda3/lib/python3.6/site-packages/statsmodels/tsa/base/tsa_model.py:221: ValueWarning: An unsupported index was provided and will be ignored when e.g. forecasting.\n",
      "  ' ignored when e.g. forecasting.', ValueWarning)\n"
     ]
    }
   ],
   "source": [
    "model = ARIMA(prices, order=(5,1,0))\n",
    "model_fit = model.fit()"
   ]
  },
  {
   "cell_type": "code",
   "execution_count": 283,
   "metadata": {},
   "outputs": [],
   "source": [
    "pred_start = datetime.datetime.utcnow() + timedelta(days=1)\n",
    "pred_end = datetime.datetime.utcnow() + timedelta(days=5)"
   ]
  },
  {
   "cell_type": "code",
   "execution_count": 286,
   "metadata": {},
   "outputs": [
    {
     "data": {
      "text/plain": [
       "datetime.datetime(2019, 3, 18, 22, 55, 29, 927847)"
      ]
     },
     "execution_count": 286,
     "metadata": {},
     "output_type": "execute_result"
    }
   ],
   "source": [
    "pred_end"
   ]
  },
  {
   "cell_type": "markdown",
   "metadata": {},
   "source": [
    "## Create Future Price Prediction Pipeline"
   ]
  },
  {
   "cell_type": "code",
   "execution_count": 109,
   "metadata": {},
   "outputs": [],
   "source": [
    "df1 = pd.read_pickle('instances_with_price_changes.pkl')"
   ]
  },
  {
   "cell_type": "code",
   "execution_count": 95,
   "metadata": {},
   "outputs": [],
   "source": [
    "instance = ('us-east-1b', 'a1.large', 'SUSE Linux')"
   ]
  },
  {
   "cell_type": "code",
   "execution_count": null,
   "metadata": {},
   "outputs": [],
   "source": [
    "df = pd.DataFrame()\n",
    "for instance in df1:\n",
    "    instance_test_pricing = PredictFuturePrice()\n",
    "    df1 = instance_test_pricing.get_prices(start='3/18/2019 12:00 AM', end='3/23/2019 12:00 PM', instance=instance[1], instance_type=instance[2],availability_zone=instance[0])\n",
    "    df = df.append(df1)"
   ]
  },
  {
   "cell_type": "code",
   "execution_count": 114,
   "metadata": {},
   "outputs": [],
   "source": [
    "df.to_pickle('test_data.pkl')"
   ]
  },
  {
   "cell_type": "code",
   "execution_count": 68,
   "metadata": {},
   "outputs": [
    {
     "data": {
      "text/html": [
       "<div>\n",
       "<style scoped>\n",
       "    .dataframe tbody tr th:only-of-type {\n",
       "        vertical-align: middle;\n",
       "    }\n",
       "\n",
       "    .dataframe tbody tr th {\n",
       "        vertical-align: top;\n",
       "    }\n",
       "\n",
       "    .dataframe thead th {\n",
       "        text-align: right;\n",
       "    }\n",
       "</style>\n",
       "<table border=\"1\" class=\"dataframe\">\n",
       "  <thead>\n",
       "    <tr style=\"text-align: right;\">\n",
       "      <th></th>\n",
       "      <th>InstanceType</th>\n",
       "      <th>AvailabilityZone</th>\n",
       "      <th>ProductDescription</th>\n",
       "      <th>SpotPrice</th>\n",
       "    </tr>\n",
       "  </thead>\n",
       "  <tbody>\n",
       "    <tr>\n",
       "      <th>2019-03-23 00:01:43+00:00</th>\n",
       "      <td>a1.large</td>\n",
       "      <td>us-east-1b</td>\n",
       "      <td>SUSE Linux</td>\n",
       "      <td>0.1168</td>\n",
       "    </tr>\n",
       "    <tr>\n",
       "      <th>2019-03-22 00:01:12+00:00</th>\n",
       "      <td>a1.large</td>\n",
       "      <td>us-east-1b</td>\n",
       "      <td>SUSE Linux</td>\n",
       "      <td>0.1168</td>\n",
       "    </tr>\n",
       "    <tr>\n",
       "      <th>2019-03-21 00:00:58+00:00</th>\n",
       "      <td>a1.large</td>\n",
       "      <td>us-east-1b</td>\n",
       "      <td>SUSE Linux</td>\n",
       "      <td>0.1168</td>\n",
       "    </tr>\n",
       "    <tr>\n",
       "      <th>2019-03-20 00:00:47+00:00</th>\n",
       "      <td>a1.large</td>\n",
       "      <td>us-east-1b</td>\n",
       "      <td>SUSE Linux</td>\n",
       "      <td>0.1168</td>\n",
       "    </tr>\n",
       "    <tr>\n",
       "      <th>2019-03-19 00:00:17+00:00</th>\n",
       "      <td>a1.large</td>\n",
       "      <td>us-east-1b</td>\n",
       "      <td>SUSE Linux</td>\n",
       "      <td>0.1168</td>\n",
       "    </tr>\n",
       "    <tr>\n",
       "      <th>2019-03-17 23:59:42+00:00</th>\n",
       "      <td>a1.large</td>\n",
       "      <td>us-east-1b</td>\n",
       "      <td>SUSE Linux</td>\n",
       "      <td>0.1168</td>\n",
       "    </tr>\n",
       "  </tbody>\n",
       "</table>\n",
       "</div>"
      ],
      "text/plain": [
       "                          InstanceType AvailabilityZone ProductDescription  \\\n",
       "2019-03-23 00:01:43+00:00     a1.large       us-east-1b         SUSE Linux   \n",
       "2019-03-22 00:01:12+00:00     a1.large       us-east-1b         SUSE Linux   \n",
       "2019-03-21 00:00:58+00:00     a1.large       us-east-1b         SUSE Linux   \n",
       "2019-03-20 00:00:47+00:00     a1.large       us-east-1b         SUSE Linux   \n",
       "2019-03-19 00:00:17+00:00     a1.large       us-east-1b         SUSE Linux   \n",
       "2019-03-17 23:59:42+00:00     a1.large       us-east-1b         SUSE Linux   \n",
       "\n",
       "                           SpotPrice  \n",
       "2019-03-23 00:01:43+00:00     0.1168  \n",
       "2019-03-22 00:01:12+00:00     0.1168  \n",
       "2019-03-21 00:00:58+00:00     0.1168  \n",
       "2019-03-20 00:00:47+00:00     0.1168  \n",
       "2019-03-19 00:00:17+00:00     0.1168  \n",
       "2019-03-17 23:59:42+00:00     0.1168  "
      ]
     },
     "execution_count": 68,
     "metadata": {},
     "output_type": "execute_result"
    }
   ],
   "source": [
    "instance_test_pricing = PredictFuturePrice()\n",
    "instance_test_pricing.get_prices(start='3/18/2019 12:00 AM', end='3/23/2019 12:00 PM', instance=instance[1], instance_type=instance[2],availability_zone=instance[0])\n"
   ]
  },
  {
   "cell_type": "code",
   "execution_count": 12,
   "metadata": {},
   "outputs": [],
   "source": [
    "#Create a test set\n",
    "for instance in df1:\n",
    "    instance_test_pricing = PredictFuturePrice()\n",
    "    instance_test_pricing.get_prices(start='3/18/2019 12:00 AM', end='3/23/2019 12:00 PM', instance=instance[1], instance_type=instance[2],availability_zone=instance[0])\n",
    "    "
   ]
  },
  {
   "cell_type": "code",
   "execution_count": 7,
   "metadata": {},
   "outputs": [],
   "source": [
    "df = pd.read_pickle('all_regions.pkl')"
   ]
  },
  {
   "cell_type": "code",
   "execution_count": 8,
   "metadata": {},
   "outputs": [
    {
     "data": {
      "text/html": [
       "<div>\n",
       "<style scoped>\n",
       "    .dataframe tbody tr th:only-of-type {\n",
       "        vertical-align: middle;\n",
       "    }\n",
       "\n",
       "    .dataframe tbody tr th {\n",
       "        vertical-align: top;\n",
       "    }\n",
       "\n",
       "    .dataframe thead th {\n",
       "        text-align: right;\n",
       "    }\n",
       "</style>\n",
       "<table border=\"1\" class=\"dataframe\">\n",
       "  <thead>\n",
       "    <tr style=\"text-align: right;\">\n",
       "      <th></th>\n",
       "      <th>index</th>\n",
       "      <th>Timestamp</th>\n",
       "      <th>AvailabilityZone</th>\n",
       "      <th>InstanceType</th>\n",
       "      <th>ProductDescription</th>\n",
       "      <th>SpotPrice</th>\n",
       "    </tr>\n",
       "  </thead>\n",
       "  <tbody>\n",
       "    <tr>\n",
       "      <th>0</th>\n",
       "      <td>0</td>\n",
       "      <td>2019-03-09 07:57:59+00:00</td>\n",
       "      <td>us-east-1b</td>\n",
       "      <td>a1.medium</td>\n",
       "      <td>SUSE Linux</td>\n",
       "      <td>0.1084</td>\n",
       "    </tr>\n",
       "    <tr>\n",
       "      <th>1</th>\n",
       "      <td>1</td>\n",
       "      <td>2019-03-09 07:57:59+00:00</td>\n",
       "      <td>us-east-1a</td>\n",
       "      <td>a1.medium</td>\n",
       "      <td>SUSE Linux</td>\n",
       "      <td>0.1084</td>\n",
       "    </tr>\n",
       "    <tr>\n",
       "      <th>2</th>\n",
       "      <td>2</td>\n",
       "      <td>2019-03-09 07:57:59+00:00</td>\n",
       "      <td>us-east-1d</td>\n",
       "      <td>a1.medium</td>\n",
       "      <td>SUSE Linux</td>\n",
       "      <td>0.1084</td>\n",
       "    </tr>\n",
       "    <tr>\n",
       "      <th>3</th>\n",
       "      <td>3</td>\n",
       "      <td>2019-03-09 07:57:59+00:00</td>\n",
       "      <td>us-east-1b</td>\n",
       "      <td>a1.medium</td>\n",
       "      <td>Linux/UNIX</td>\n",
       "      <td>0.0084</td>\n",
       "    </tr>\n",
       "    <tr>\n",
       "      <th>4</th>\n",
       "      <td>4</td>\n",
       "      <td>2019-03-09 07:57:59+00:00</td>\n",
       "      <td>us-east-1a</td>\n",
       "      <td>a1.medium</td>\n",
       "      <td>Linux/UNIX</td>\n",
       "      <td>0.0084</td>\n",
       "    </tr>\n",
       "  </tbody>\n",
       "</table>\n",
       "</div>"
      ],
      "text/plain": [
       "   index                 Timestamp AvailabilityZone InstanceType  \\\n",
       "0      0 2019-03-09 07:57:59+00:00       us-east-1b    a1.medium   \n",
       "1      1 2019-03-09 07:57:59+00:00       us-east-1a    a1.medium   \n",
       "2      2 2019-03-09 07:57:59+00:00       us-east-1d    a1.medium   \n",
       "3      3 2019-03-09 07:57:59+00:00       us-east-1b    a1.medium   \n",
       "4      4 2019-03-09 07:57:59+00:00       us-east-1a    a1.medium   \n",
       "\n",
       "  ProductDescription  SpotPrice  \n",
       "0         SUSE Linux     0.1084  \n",
       "1         SUSE Linux     0.1084  \n",
       "2         SUSE Linux     0.1084  \n",
       "3         Linux/UNIX     0.0084  \n",
       "4         Linux/UNIX     0.0084  "
      ]
     },
     "execution_count": 8,
     "metadata": {},
     "output_type": "execute_result"
    }
   ],
   "source": [
    "df.head()"
   ]
  },
  {
   "cell_type": "code",
   "execution_count": 30,
   "metadata": {},
   "outputs": [],
   "source": [
    "start = '12/12/2018 10:03 AM'\n",
    "end = '03/18/2019 10:04 AM'\n",
    "instance = 'm4.xlarge'\n",
    "instance_type = 'Linux/UNIX'\n",
    "region = 'us-east-1'\n",
    "availability_zone = 'B'\n",
    "num_days = 10"
   ]
  },
  {
   "cell_type": "code",
   "execution_count": 34,
   "metadata": {},
   "outputs": [],
   "source": [
    "test = PredictFuturePrice2()\n",
    "test.multi_price(start,end,instance, instance_type, region)\n",
    "test.multipipeline(10)\n",
    "#test.get_similar_instances('Linux/UNIX', 'm4.xlarge') "
   ]
  },
  {
   "cell_type": "code",
   "execution_count": 36,
   "metadata": {},
   "outputs": [
    {
     "data": {
      "text/plain": [
       "array([0.0651729 , 0.06516464, 0.06514485, 0.06516787, 0.06520929,\n",
       "       0.06520096, 0.06517639, 0.06519452, 0.06520992, 0.06520061])"
      ]
     },
     "execution_count": 36,
     "metadata": {},
     "output_type": "execute_result"
    }
   ],
   "source": [
    "test.forecasted_values['us-east-1b']"
   ]
  },
  {
   "cell_type": "code",
   "execution_count": null,
   "metadata": {},
   "outputs": [],
   "source": [
    "for key, value in test.prices.items():\n",
    "    \n",
    "    print(type(value))"
   ]
  },
  {
   "cell_type": "code",
   "execution_count": null,
   "metadata": {},
   "outputs": [],
   "source": [
    "for i in range(len(test.prices)):\n",
    "    \n",
    "    test.prices"
   ]
  },
  {
   "cell_type": "code",
   "execution_count": 43,
   "metadata": {},
   "outputs": [],
   "source": [
    "traces = []"
   ]
  },
  {
   "cell_type": "code",
   "execution_count": 68,
   "metadata": {},
   "outputs": [
    {
     "ename": "AttributeError",
     "evalue": "'PredictFuturePrice2' object has no attribute 'forecast'",
     "output_type": "error",
     "traceback": [
      "\u001b[0;31m---------------------------------------------------------------------------\u001b[0m",
      "\u001b[0;31mAttributeError\u001b[0m                            Traceback (most recent call last)",
      "\u001b[0;32m<ipython-input-68-8ddd0052ae9f>\u001b[0m in \u001b[0;36m<module>\u001b[0;34m\u001b[0m\n\u001b[0;32m----> 1\u001b[0;31m \u001b[0mtest\u001b[0m\u001b[0;34m.\u001b[0m\u001b[0mforecast\u001b[0m\u001b[0;34m\u001b[0m\u001b[0;34m\u001b[0m\u001b[0m\n\u001b[0m",
      "\u001b[0;31mAttributeError\u001b[0m: 'PredictFuturePrice2' object has no attribute 'forecast'"
     ]
    }
   ],
   "source": [
    "test.forecast"
   ]
  },
  {
   "cell_type": "code",
   "execution_count": 70,
   "metadata": {},
   "outputs": [
    {
     "data": {
      "text/plain": [
       "[0.06517289704671717,\n",
       " 0.06516463754378643,\n",
       " 0.06514484705847873,\n",
       " 0.06516787096578733,\n",
       " 0.06520929447017189,\n",
       " 0.06520096246325198,\n",
       " 0.0651763875343549,\n",
       " 0.06519452008688423,\n",
       " 0.06520991812618568,\n",
       " 0.06520060755991931]"
      ]
     },
     "execution_count": 70,
     "metadata": {},
     "output_type": "execute_result"
    }
   ],
   "source": [
    "list(test.forecasted_values['us-east-1b'])"
   ]
  },
  {
   "cell_type": "code",
   "execution_count": 21,
   "metadata": {},
   "outputs": [
    {
     "data": {
      "text/plain": [
       "DatetimeIndex(['2019-03-19 00:00:00+00:00', '2019-03-20 00:00:00+00:00',\n",
       "               '2019-03-21 00:00:00+00:00', '2019-03-22 00:00:00+00:00',\n",
       "               '2019-03-23 00:00:00+00:00'],\n",
       "              dtype='datetime64[ns, tzutc()]', freq='D')"
      ]
     },
     "execution_count": 21,
     "metadata": {},
     "output_type": "execute_result"
    }
   ],
   "source": [
    "(test.date_range + pd.DateOffset(5))[-5:]"
   ]
  },
  {
   "cell_type": "code",
   "execution_count": 168,
   "metadata": {},
   "outputs": [
    {
     "data": {
      "text/plain": [
       "Index([ 2018-12-21 00:00:00+00:00,  2018-12-22 00:00:00+00:00,\n",
       "        2018-12-23 00:00:00+00:00,  2018-12-24 00:00:00+00:00,\n",
       "        2018-12-25 00:00:00+00:00,  2018-12-26 00:00:00+00:00,\n",
       "        2018-12-27 00:00:00+00:00,  2018-12-28 00:00:00+00:00,\n",
       "        2018-12-29 00:00:00+00:00,  2018-12-30 00:00:00+00:00,\n",
       "        2018-12-31 00:00:00+00:00,  2019-01-01 00:00:00+00:00,\n",
       "        2019-01-02 00:00:00+00:00,  2019-01-03 00:00:00+00:00,\n",
       "        2019-01-04 00:00:00+00:00,  2019-01-05 00:00:00+00:00,\n",
       "        2019-01-06 00:00:00+00:00,  2019-01-07 00:00:00+00:00,\n",
       "        2019-01-08 00:00:00+00:00,  2019-01-09 00:00:00+00:00,\n",
       "        2019-01-10 00:00:00+00:00,  2019-01-11 00:00:00+00:00,\n",
       "        2019-01-12 00:00:00+00:00,  2019-01-13 00:00:00+00:00,\n",
       "        2019-01-14 00:00:00+00:00,  2019-01-15 00:00:00+00:00,\n",
       "        2019-01-16 00:00:00+00:00,  2019-01-17 00:00:00+00:00,\n",
       "        2019-01-18 00:00:00+00:00,  2019-01-19 00:00:00+00:00,\n",
       "        2019-01-20 00:00:00+00:00,  2019-01-21 00:00:00+00:00,\n",
       "        2019-01-22 00:00:00+00:00,  2019-01-23 00:00:00+00:00,\n",
       "        2019-01-24 00:00:00+00:00,  2019-01-25 00:00:00+00:00,\n",
       "        2019-01-26 00:00:00+00:00,  2019-01-27 00:00:00+00:00,\n",
       "        2019-01-28 00:00:00+00:00,  2019-01-29 00:00:00+00:00,\n",
       "        2019-01-30 00:00:00+00:00,  2019-01-31 00:00:00+00:00,\n",
       "        2019-02-01 00:00:00+00:00,  2019-02-02 00:00:00+00:00,\n",
       "        2019-02-03 00:00:00+00:00,  2019-02-04 00:00:00+00:00,\n",
       "        2019-02-05 00:00:00+00:00,  2019-02-06 00:00:00+00:00,\n",
       "        2019-02-07 00:00:00+00:00,  2019-02-08 00:00:00+00:00,\n",
       "        2019-02-09 00:00:00+00:00,  2019-02-10 00:00:00+00:00,\n",
       "        2019-02-11 00:00:00+00:00,  2019-02-12 00:00:00+00:00,\n",
       "        2019-02-13 00:00:00+00:00,  2019-02-14 00:00:00+00:00,\n",
       "        2019-02-15 00:00:00+00:00,  2019-02-16 00:00:00+00:00,\n",
       "        2019-02-17 00:00:00+00:00,  2019-02-18 00:00:00+00:00,\n",
       "        2019-02-19 00:00:00+00:00,  2019-02-20 00:00:00+00:00,\n",
       "        2019-02-21 00:00:00+00:00,  2019-02-22 00:00:00+00:00,\n",
       "        2019-02-23 00:00:00+00:00,  2019-02-24 00:00:00+00:00,\n",
       "        2019-02-25 00:00:00+00:00,  2019-02-26 00:00:00+00:00,\n",
       "        2019-02-27 00:00:00+00:00,  2019-02-28 00:00:00+00:00,\n",
       "        2019-03-01 00:00:00+00:00,  2019-03-02 00:00:00+00:00,\n",
       "        2019-03-03 00:00:00+00:00,  2019-03-04 00:00:00+00:00,\n",
       "        2019-03-05 00:00:00+00:00,  2019-03-06 00:00:00+00:00,\n",
       "        2019-03-07 00:00:00+00:00,  2019-03-08 00:00:00+00:00,\n",
       "        2019-03-09 00:00:00+00:00,  2019-03-10 00:00:00+00:00,\n",
       "        2019-03-11 00:00:00+00:00,  2019-03-12 00:00:00+00:00,\n",
       "        2019-03-13 00:00:00+00:00,  2019-03-14 00:00:00+00:00,\n",
       "        2019-03-15 00:00:00+00:00,  2019-03-16 00:00:00+00:00,\n",
       "        2019-03-17 00:00:00+00:00,  2019-03-18 00:00:00+00:00,\n",
       "       2019-03-20 15:57:23.016687, 2019-03-21 15:57:23.016687,\n",
       "       2019-03-22 15:57:23.016687, 2019-03-23 15:57:23.016687,\n",
       "       2019-03-24 15:57:23.016687, 2019-03-25 15:57:23.016687,\n",
       "       2019-03-26 15:57:23.016687, 2019-03-27 15:57:23.016687,\n",
       "       2019-03-28 15:57:23.016687, 2019-03-29 15:57:23.016687],\n",
       "      dtype='object')"
      ]
     },
     "execution_count": 168,
     "metadata": {},
     "output_type": "execute_result"
    }
   ],
   "source": [
    "test.date_range.append(pd.date_range(pd.datetime.today(), periods=10))"
   ]
  },
  {
   "cell_type": "code",
   "execution_count": 143,
   "metadata": {},
   "outputs": [
    {
     "name": "stderr",
     "output_type": "stream",
     "text": [
      "/anaconda3/lib/python3.6/site-packages/statsmodels/base/model.py:508: ConvergenceWarning: Maximum Likelihood optimization failed to converge. Check mle_retvals\n",
      "  \"Check mle_retvals\", ConvergenceWarning)\n"
     ]
    }
   ],
   "source": [
    "test.multipipeline(10)"
   ]
  },
  {
   "cell_type": "code",
   "execution_count": 159,
   "metadata": {},
   "outputs": [
    {
     "data": {
      "text/plain": [
       "{'us-east-1b': array([0.06517232, 0.06516377, 0.06514405, 0.06516733, 0.0652084 ,\n",
       "        0.06519944, 0.06517526, 0.0651935 , 0.06520849, 0.06519859]),\n",
       " 'us-east-1a': array([0.06601213, 0.06604293, 0.0660668 , 0.06607622, 0.06609855,\n",
       "        0.06610229, 0.0661079 , 0.06611523, 0.06612058, 0.06613094]),\n",
       " 'us-east-1d': array([0.06496301, 0.06497236, 0.0649952 , 0.06494909, 0.06495168,\n",
       "        0.0649762 , 0.06496588, 0.06495227, 0.06494383, 0.06498348]),\n",
       " 'us-east-1f': array([0.0648, 0.0648, 0.0648, 0.0648, 0.0648, 0.0648, 0.0648, 0.0648,\n",
       "        0.0648, 0.0648]),\n",
       " 'us-east-1c': array([0.0725588 , 0.07268057, 0.07293401, 0.07312679, 0.07302575,\n",
       "        0.07272152, 0.0724372 , 0.07228995, 0.0723849 , 0.07261479]),\n",
       " 'us-east-1e': array([0.0648, 0.0648, 0.0648, 0.0648, 0.0648, 0.0648, 0.0648, 0.0648,\n",
       "        0.0648, 0.0648]),\n",
       " 'us-east-2b': array([0.03895165, 0.03897661, 0.03895137, 0.03894945, 0.03895402,\n",
       "        0.03895702, 0.03897339, 0.03897484, 0.03898606, 0.03900236]),\n",
       " 'us-east-2a': array([0.0391034 , 0.03917336, 0.03926016, 0.03908789, 0.03912863,\n",
       "        0.03912189, 0.0391937 , 0.0392422 , 0.03924364, 0.03928639]),\n",
       " 'us-east-2c': array([0.03884043, 0.03882505, 0.03883696, 0.03885564, 0.03884527,\n",
       "        0.03883762, 0.03887058, 0.03886781, 0.03888174, 0.03890351]),\n",
       " 'us-west-1b': array([0.06154354, 0.06158131, 0.06156483, 0.06157513, 0.06158012,\n",
       "        0.06158146, 0.06156455, 0.06153347, 0.06153514, 0.06154031]),\n",
       " 'us-west-1c': array([0.0615, 0.0615, 0.0615, 0.0615, 0.0615, 0.0615, 0.0615, 0.0615,\n",
       "        0.0615, 0.0615]),\n",
       " 'us-west-2c': array([0.06510362, 0.06514873, 0.06509489, 0.06505835, 0.06508119,\n",
       "        0.06508831, 0.06512616, 0.06514711, 0.06512893, 0.06512534]),\n",
       " 'us-west-2a': array([0.06502082, 0.06505275, 0.06509885, 0.06509431, 0.06507718,\n",
       "        0.06506593, 0.0650521 , 0.06504605, 0.06508239, 0.06511752]),\n",
       " 'us-west-2b': array([0.06503039, 0.06501378, 0.06501875, 0.06505574, 0.06505748,\n",
       "        0.06505239, 0.06504087, 0.06503695, 0.06506104, 0.06508082])}"
      ]
     },
     "execution_count": 159,
     "metadata": {},
     "output_type": "execute_result"
    }
   ],
   "source": [
    "test.forecasted_values"
   ]
  },
  {
   "cell_type": "code",
   "execution_count": 158,
   "metadata": {},
   "outputs": [],
   "source": [
    "fdatelist = pd.date_range(pd.datetime.today(), periods=3)"
   ]
  },
  {
   "cell_type": "code",
   "execution_count": 156,
   "metadata": {},
   "outputs": [
    {
     "data": {
      "text/plain": [
       "DatetimeIndex(['2019-03-20 15:46:08.957997', '2019-03-21 15:46:08.957997',\n",
       "               '2019-03-22 15:46:08.957997'],\n",
       "              dtype='datetime64[ns]', freq='D')"
      ]
     },
     "execution_count": 156,
     "metadata": {},
     "output_type": "execute_result"
    }
   ],
   "source": [
    "fdatelist"
   ]
  },
  {
   "cell_type": "code",
   "execution_count": 144,
   "metadata": {},
   "outputs": [
    {
     "data": {
      "text/plain": [
       "{'us-east-1b': array([0.06517232, 0.06516377, 0.06514405, 0.06516733, 0.0652084 ,\n",
       "        0.06519944, 0.06517526, 0.0651935 , 0.06520849, 0.06519859]),\n",
       " 'us-east-1a': array([0.06601213, 0.06604293, 0.0660668 , 0.06607622, 0.06609855,\n",
       "        0.06610229, 0.0661079 , 0.06611523, 0.06612058, 0.06613094]),\n",
       " 'us-east-1d': array([0.06496301, 0.06497236, 0.0649952 , 0.06494909, 0.06495168,\n",
       "        0.0649762 , 0.06496588, 0.06495227, 0.06494383, 0.06498348]),\n",
       " 'us-east-1f': array([0.0648, 0.0648, 0.0648, 0.0648, 0.0648, 0.0648, 0.0648, 0.0648,\n",
       "        0.0648, 0.0648]),\n",
       " 'us-east-1c': array([0.0725588 , 0.07268057, 0.07293401, 0.07312679, 0.07302575,\n",
       "        0.07272152, 0.0724372 , 0.07228995, 0.0723849 , 0.07261479]),\n",
       " 'us-east-1e': array([0.0648, 0.0648, 0.0648, 0.0648, 0.0648, 0.0648, 0.0648, 0.0648,\n",
       "        0.0648, 0.0648]),\n",
       " 'us-east-2b': array([0.03895165, 0.03897661, 0.03895137, 0.03894945, 0.03895402,\n",
       "        0.03895702, 0.03897339, 0.03897484, 0.03898606, 0.03900236]),\n",
       " 'us-east-2a': array([0.0391034 , 0.03917336, 0.03926016, 0.03908789, 0.03912863,\n",
       "        0.03912189, 0.0391937 , 0.0392422 , 0.03924364, 0.03928639]),\n",
       " 'us-east-2c': array([0.03884043, 0.03882505, 0.03883696, 0.03885564, 0.03884527,\n",
       "        0.03883762, 0.03887058, 0.03886781, 0.03888174, 0.03890351]),\n",
       " 'us-west-1b': array([0.06154354, 0.06158131, 0.06156483, 0.06157513, 0.06158012,\n",
       "        0.06158146, 0.06156455, 0.06153347, 0.06153514, 0.06154031]),\n",
       " 'us-west-1c': array([0.0615, 0.0615, 0.0615, 0.0615, 0.0615, 0.0615, 0.0615, 0.0615,\n",
       "        0.0615, 0.0615]),\n",
       " 'us-west-2c': array([0.06510362, 0.06514873, 0.06509489, 0.06505835, 0.06508119,\n",
       "        0.06508831, 0.06512616, 0.06514711, 0.06512893, 0.06512534]),\n",
       " 'us-west-2a': array([0.06502082, 0.06505275, 0.06509885, 0.06509431, 0.06507718,\n",
       "        0.06506593, 0.0650521 , 0.06504605, 0.06508239, 0.06511752]),\n",
       " 'us-west-2b': array([0.06503039, 0.06501378, 0.06501875, 0.06505574, 0.06505748,\n",
       "        0.06505239, 0.06504087, 0.06503695, 0.06506104, 0.06508082])}"
      ]
     },
     "execution_count": 144,
     "metadata": {},
     "output_type": "execute_result"
    }
   ],
   "source": [
    "test.forecasted_values"
   ]
  },
  {
   "cell_type": "code",
   "execution_count": 86,
   "metadata": {},
   "outputs": [
    {
     "name": "stdout",
     "output_type": "stream",
     "text": [
      "us-east-1b\n",
      "us-east-1a\n",
      "us-east-1d\n",
      "us-east-1f\n",
      "us-east-1c\n",
      "us-east-1e\n",
      "us-east-2b\n",
      "us-east-2a\n",
      "us-east-2c\n",
      "us-west-1b\n",
      "us-west-1c\n",
      "us-west-2c\n",
      "us-west-2a\n",
      "us-west-2b\n"
     ]
    }
   ],
   "source": [
    "for price_set in test.prices:\n",
    "    print(price_set)"
   ]
  },
  {
   "cell_type": "code",
   "execution_count": 19,
   "metadata": {},
   "outputs": [],
   "source": [
    "ec2_pricing = PredictFuturePrice()\n",
    "ec2_pricing.get_similar_instances('Linux/UNIX', 'm4.xlarge') \n",
    "#ec2_pricing.pipeline(start, end, instance, instance_type, region, availability_zone, num_days)"
   ]
  },
  {
   "cell_type": "code",
   "execution_count": 30,
   "metadata": {},
   "outputs": [
    {
     "data": {
      "text/plain": [
       "[('us-east-1b', 'm4.xlarge', 'Linux/UNIX'),\n",
       " ('us-east-1a', 'm4.xlarge', 'Linux/UNIX'),\n",
       " ('us-east-1d', 'm4.xlarge', 'Linux/UNIX'),\n",
       " ('us-east-1f', 'm4.xlarge', 'Linux/UNIX'),\n",
       " ('us-east-1c', 'm4.xlarge', 'Linux/UNIX'),\n",
       " ('us-east-1e', 'm4.xlarge', 'Linux/UNIX'),\n",
       " ('us-east-2b', 'm4.xlarge', 'Linux/UNIX'),\n",
       " ('us-east-2a', 'm4.xlarge', 'Linux/UNIX'),\n",
       " ('us-east-2c', 'm4.xlarge', 'Linux/UNIX'),\n",
       " ('us-west-1b', 'm4.xlarge', 'Linux/UNIX'),\n",
       " ('us-west-1c', 'm4.xlarge', 'Linux/UNIX'),\n",
       " ('us-west-2c', 'm4.xlarge', 'Linux/UNIX'),\n",
       " ('us-west-2a', 'm4.xlarge', 'Linux/UNIX'),\n",
       " ('us-west-2b', 'm4.xlarge', 'Linux/UNIX')]"
      ]
     },
     "execution_count": 30,
     "metadata": {},
     "output_type": "execute_result"
    }
   ],
   "source": [
    "ec2_pricing.configs_to_run"
   ]
  },
  {
   "cell_type": "code",
   "execution_count": 13,
   "metadata": {},
   "outputs": [
    {
     "data": {
      "image/png": "[encoded data removed]",
      "text/plain": [
       "<Figure size 432x288 with 1 Axes>"
      ]
     },
     "metadata": {
      "needs_background": "light"
     },
     "output_type": "display_data"
    }
   ],
   "source": [
    "ec2_pricing.plot()"
   ]
  },
  {
   "cell_type": "code",
   "execution_count": 251,
   "metadata": {},
   "outputs": [],
   "source": [
    "df_regions = pd.read_pickle('all_regions.pkl')"
   ]
  },
  {
   "cell_type": "code",
   "execution_count": 253,
   "metadata": {},
   "outputs": [
    {
     "data": {
      "text/plain": [
       "array(['SUSE Linux', 'Linux/UNIX', 'Windows'], dtype=object)"
      ]
     },
     "execution_count": 253,
     "metadata": {},
     "output_type": "execute_result"
    }
   ],
   "source": [
    "df_regions.ProductDescription.unique()"
   ]
  },
  {
   "cell_type": "code",
   "execution_count": 206,
   "metadata": {},
   "outputs": [
    {
     "data": {
      "text/plain": [
       "array(['us-east-1b', 'us-east-1a', 'us-east-1d', 'us-east-1f',\n",
       "       'us-east-1c', 'us-east-1e', 'us-east-2b', 'us-east-2a',\n",
       "       'us-east-2c', 'us-west-1b', 'us-west-1c', 'us-west-2c',\n",
       "       'us-west-2a', 'us-west-2b', 'us-west-2d'], dtype=object)"
      ]
     },
     "execution_count": 206,
     "metadata": {},
     "output_type": "execute_result"
    }
   ],
   "source": [
    "df_regions.AvailabilityZone.unique()"
   ]
  },
  {
   "cell_type": "code",
   "execution_count": 3,
   "metadata": {},
   "outputs": [],
   "source": [
    "configurations = pd.read_pickle('all_instance_type_permutations.pkl')"
   ]
  },
  {
   "cell_type": "markdown",
   "metadata": {},
   "source": [
    "## Check for all Availability Zones"
   ]
  },
  {
   "cell_type": "code",
   "execution_count": 2,
   "metadata": {},
   "outputs": [],
   "source": [
    "start = '12/12/2018 10:03 AM'\n",
    "end = '03/18/2019 10:04 AM'\n",
    "instance = 'm4.xlarge'\n",
    "instance_type = 'Linux/UNIX (Amazon VPC)'\n",
    "region = 'us-east-1'\n",
    "availability_zone = 'B'\n",
    "num_days = 10"
   ]
  },
  {
   "cell_type": "code",
   "execution_count": 4,
   "metadata": {},
   "outputs": [],
   "source": [
    "selected_regions = ['us-east-1', 'us-east-2', 'us-west-1', 'us-west-2']"
   ]
  },
  {
   "cell_type": "code",
   "execution_count": 6,
   "metadata": {},
   "outputs": [],
   "source": [
    "regions = ['us-east-1b', 'us-east-1a', 'us-east-1d', 'us-east-1f',\n",
    "       'us-east-1c', 'us-east-1e', 'us-east-2b', 'us-east-2a',\n",
    "       'us-east-2c', 'us-west-1b', 'us-west-1c', 'us-west-2c',\n",
    "       'us-west-2a', 'us-west-2b', 'us-west-2d']"
   ]
  },
  {
   "cell_type": "code",
   "execution_count": 7,
   "metadata": {},
   "outputs": [
    {
     "data": {
      "text/plain": [
       "['us-east-1b',\n",
       " 'us-east-1a',\n",
       " 'us-east-1d',\n",
       " 'us-east-1f',\n",
       " 'us-east-1c',\n",
       " 'us-east-1e']"
      ]
     },
     "execution_count": 7,
     "metadata": {},
     "output_type": "execute_result"
    }
   ],
   "source": [
    "availability_zone_list = []\n",
    "selected_region = selected_regions[0]\n",
    "\n",
    "for availability_zone in regions:\n",
    "    if selected_region in availability_zone: \n",
    "        availability_zone_list.append(availability_zone)\n",
    "availability_zone_list"
   ]
  },
  {
   "cell_type": "code",
   "execution_count": null,
   "metadata": {},
   "outputs": [],
   "source": [
    "os_types = ['SUSE Linux', 'Linux/UNIX', 'Windows']"
   ]
  },
  {
   "cell_type": "code",
   "execution_count": 9,
   "metadata": {},
   "outputs": [],
   "source": [
    "os_type = 'Linux/UNIX'"
   ]
  },
  {
   "cell_type": "code",
   "execution_count": 12,
   "metadata": {},
   "outputs": [],
   "source": [
    "instance_type = 'm4.large'"
   ]
  },
  {
   "cell_type": "code",
   "execution_count": 14,
   "metadata": {},
   "outputs": [
    {
     "data": {
      "text/plain": [
       "[('us-east-1b', 'm4.large', 'Linux/UNIX'),\n",
       " ('us-east-1a', 'm4.large', 'Linux/UNIX'),\n",
       " ('us-east-1d', 'm4.large', 'Linux/UNIX'),\n",
       " ('us-east-1f', 'm4.large', 'Linux/UNIX'),\n",
       " ('us-east-1c', 'm4.large', 'Linux/UNIX'),\n",
       " ('us-east-1e', 'm4.large', 'Linux/UNIX'),\n",
       " ('us-east-2b', 'm4.large', 'Linux/UNIX'),\n",
       " ('us-east-2a', 'm4.large', 'Linux/UNIX'),\n",
       " ('us-east-2c', 'm4.large', 'Linux/UNIX'),\n",
       " ('us-west-1b', 'm4.large', 'Linux/UNIX'),\n",
       " ('us-west-1c', 'm4.large', 'Linux/UNIX'),\n",
       " ('us-west-2c', 'm4.large', 'Linux/UNIX'),\n",
       " ('us-west-2a', 'm4.large', 'Linux/UNIX'),\n",
       " ('us-west-2b', 'm4.large', 'Linux/UNIX')]"
      ]
     },
     "execution_count": 14,
     "metadata": {},
     "output_type": "execute_result"
    }
   ],
   "source": [
    "configs_to_run = []\n",
    "for config in configurations:\n",
    "    if os_type in config and instance_type in config:\n",
    "        configs_to_run.append(config)\n",
    "configs_to_run"
   ]
  }
 ],
 "metadata": {
  "kernelspec": {
   "display_name": "Python 3",
   "language": "python",
   "name": "python3"
  },
  "language_info": {
   "codemirror_mode": {
    "name": "ipython",
    "version": 3
   },
   "file_extension": ".py",
   "mimetype": "text/x-python",
   "name": "python",
   "nbconvert_exporter": "python",
   "pygments_lexer": "ipython3",
   "version": "3.6.8"
  }
 },
 "nbformat": 4,
 "nbformat_minor": 2
}
